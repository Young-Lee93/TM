{
 "cells": [
  {
   "cell_type": "code",
   "execution_count": 2,
   "metadata": {},
   "outputs": [],
   "source": [
    "import pandas as pd\n",
    "import numpy as np\n",
    "import matplotlib.pyplot as plt\n",
    "from sklearn.feature_extraction.text import CountVectorizer\n",
    "from sklearn.feature_extraction.text import TfidfVectorizer\n",
    "from sklearn.pipeline import Pipeline"
   ]
  },
  {
   "cell_type": "markdown",
   "metadata": {},
   "source": [
    "## import file"
   ]
  },
  {
   "cell_type": "code",
   "execution_count": 7,
   "metadata": {},
   "outputs": [],
   "source": [
    "fake_news = pd.read_csv(\"Fake.csv\")\n",
    "real_news = pd.read_csv(\"True.csv\")"
   ]
  },
  {
   "cell_type": "code",
   "execution_count": null,
   "metadata": {},
   "outputs": [],
   "source": [
    "## remove unnecessary parts - subject, date"
   ]
  },
  {
   "cell_type": "code",
   "execution_count": 8,
   "metadata": {},
   "outputs": [],
   "source": [
    "fake_news = fake_news.drop(['subject', 'date'], axis = 1)\n",
    "true_news = real_news.drop(['subject', 'date'], axis = 1)"
   ]
  },
  {
   "cell_type": "code",
   "execution_count": 16,
   "metadata": {},
   "outputs": [],
   "source": [
    "fake_news.insert(2, 'fake', 1)\n",
    "true_news.insert(2, 'fake', 0)"
   ]
  },
  {
   "cell_type": "code",
   "execution_count": 19,
   "metadata": {},
   "outputs": [],
   "source": [
    "news = fake_news.append(true_news)"
   ]
  },
  {
   "cell_type": "code",
   "execution_count": null,
   "metadata": {},
   "outputs": [],
   "source": [
    "## count the number of documents in each dataframe"
   ]
  },
  {
   "cell_type": "code",
   "execution_count": 23,
   "metadata": {},
   "outputs": [
    {
     "data": {
      "image/png": "[encoded data removed]",
      "text/plain": [
       "<Figure size 432x288 with 1 Axes>"
      ]
     },
     "metadata": {
      "needs_background": "light"
     },
     "output_type": "display_data"
    }
   ],
   "source": [
    "import matplotlib.pyplot as plt\n",
    "news['fake'].value_counts().plot(kind = 'bar')\n",
    "plt.xlabel('Fake')\n",
    "plt.ylabel('Number of News')\n",
    "plt.title('Number of Fake News and Non-fake News')\n",
    "plt.show()"
   ]
  },
  {
   "cell_type": "code",
   "execution_count": 25,
   "metadata": {},
   "outputs": [
    {
     "name": "stdout",
     "output_type": "stream",
     "text": [
      "number of fake news: 23481, number of real news: 21417\n"
     ]
    }
   ],
   "source": [
    "print(f\"number of fake news: {len(fake_news)}, number of real news: {len(real_news)}\")"
   ]
  },
  {
   "cell_type": "markdown",
   "metadata": {},
   "source": [
    "## division to training & test data\n",
    "### mind: balanced training dataset"
   ]
  },
  {
   "cell_type": "code",
   "execution_count": 39,
   "metadata": {},
   "outputs": [],
   "source": [
    "# divide data into training, test set 80:20 --- since true news is fewer, set the number of training set = # of test set\n",
    "n_samples = int(len(real_news)*0.8)\n",
    "\n",
    "import random\n",
    "random.seed(12345)\n",
    "\n",
    "fake_ind = random.sample(range(len(fake_news)), n_samples)\n",
    "true_ind = random.sample(range(len(true_news)), n_samples)\n",
    "test_fake = [x for x in [*range(len(fake_news))] if x not in fake_ind]\n",
    "test_true = [x for x in [*range(len(true_news))] if x not in true_ind]"
   ]
  },
  {
   "cell_type": "code",
   "execution_count": 40,
   "metadata": {},
   "outputs": [],
   "source": [
    "train_fake_data = fake_news.iloc[fake_ind, :]\n",
    "train_true_data = true_news.iloc[true_ind, :]\n",
    "test_fake_data = fake_news.iloc[test_fake, :]\n",
    "test_true_data = true_news.iloc[test_true, :]"
   ]
  },
  {
   "cell_type": "code",
   "execution_count": 43,
   "metadata": {},
   "outputs": [],
   "source": [
    "train_data = train_fake_data.append(train_true_data)\n",
    "test_data = test_fake_data.append(test_true_data)"
   ]
  },
  {
   "cell_type": "code",
   "execution_count": 47,
   "metadata": {},
   "outputs": [],
   "source": [
    "train_data.to_csv('train_data.csv', index = False)\n",
    "test_data.to_csv('test_data.csv', index = False)"
   ]
  },
  {
   "cell_type": "markdown",
   "metadata": {},
   "source": [
    "## construct pipeline for each model with different vectorizers (remove stopword -- dont. 왜냐하면 reference, different n-grams)"
   ]
  },
  {
   "cell_type": "code",
   "execution_count": 3,
   "metadata": {},
   "outputs": [],
   "source": [
    "train = pd.read_csv('train_data.csv')\n",
    "test = pd.read_csv('test_data.csv')"
   ]
  },
  {
   "cell_type": "code",
   "execution_count": 4,
   "metadata": {},
   "outputs": [],
   "source": [
    "import re"
   ]
  },
  {
   "cell_type": "code",
   "execution_count": 5,
   "metadata": {},
   "outputs": [],
   "source": [
    "def preprocess(content):\n",
    "    \n",
    "    # remove contractions (ref: https://www.kaggle.com/gunesevitan/nlp-with-disaster-tweets-eda-cleaning-and-bert)\n",
    "    \n",
    "    content = re.sub(r\"he's\", \"he is\", str(content))\n",
    "    content = re.sub(r\"there's\", \"there is\", str(content))\n",
    "    content = re.sub(r\"We're\", \"We are\", str(content))\n",
    "    content = re.sub(r\"That's\", \"That is\", str(content))\n",
    "    content = re.sub(r\"won't\", \"will not\", str(content))\n",
    "    content = re.sub(r\"they're\", \"they are\", str(content))\n",
    "    content = re.sub(r\"Can't\", \"Cannot\", str(content))\n",
    "    content = re.sub(r\"wasn't\", \"was not\", str(content))\n",
    "    content = re.sub(r\"aren't\", \"are not\", str(content))\n",
    "    content = re.sub(r\"isn't\", \"is not\", str(content))\n",
    "    content = re.sub(r\"What's\", \"What is\", str(content))\n",
    "    content = re.sub(r\"haven't\", \"have not\", str(content))\n",
    "    content = re.sub(r\"hasn't\", \"has not\", str(content))\n",
    "    content = re.sub(r\"There's\", \"There is\", str(content))\n",
    "    content = re.sub(r\"He's\", \"He is\", str(content))\n",
    "    content = re.sub(r\"It's\", \"It is\", str(content))\n",
    "    content = re.sub(r\"You're\", \"You are\", str(content))\n",
    "    content = re.sub(r\"I'M\", \"I am\", str(content))\n",
    "    content = re.sub(r\"shouldn't\", \"should not\", str(content))\n",
    "    content = re.sub(r\"wouldn't\", \"would not\", str(content))\n",
    "    content = re.sub(r\"i'm\", \"I am\", str(content))\n",
    "    content = re.sub(r\"I'm\", \"I am\", str(content))\n",
    "    content = re.sub(r\"Isn't\", \"is not\", str(content))\n",
    "    content = re.sub(r\"Here's\", \"Here is\", str(content))\n",
    "    content = re.sub(r\"you've\", \"you have\", str(content))\n",
    "    content = re.sub(r\"we're\", \"we are\", str(content))\n",
    "    content = re.sub(r\"what's\", \"what is\", str(content))\n",
    "    content = re.sub(r\"couldn't\", \"could not\", str(content))\n",
    "    content = re.sub(r\"we've\", \"we have\", str(content))\n",
    "    content = re.sub(r\"who's\", \"who is\", str(content))\n",
    "    content = re.sub(r\"y'all\", \"you all\", str(content))\n",
    "    content = re.sub(r\"would've\", \"would have\", str(content))\n",
    "    content = re.sub(r\"it'll\", \"it will\", str(content))\n",
    "    content = re.sub(r\"we'll\", \"we will\", str(content))\n",
    "    content = re.sub(r\"We've\", \"We have\", str(content))\n",
    "    content = re.sub(r\"he'll\", \"he will\", str(content))\n",
    "    content = re.sub(r\"Y'all\", \"You all\", str(content))\n",
    "    content = re.sub(r\"Weren't\", \"Were not\", str(content))\n",
    "    content = re.sub(r\"Didn't\", \"Did not\", str(content))\n",
    "    content = re.sub(r\"they'll\", \"they will\", str(content))\n",
    "    content = re.sub(r\"they'd\", \"they would\", str(content))\n",
    "    content = re.sub(r\"DON'T\", \"DO NOT\", str(content))\n",
    "    content = re.sub(r\"they've\", \"they have\", str(content))\n",
    "    content = re.sub(r\"i'd\", \"I would\", str(content))\n",
    "    content = re.sub(r\"should've\", \"should have\", str(content))\n",
    "    content = re.sub(r\"where's\", \"where is\", str(content))\n",
    "    content = re.sub(r\"we'd\", \"we would\", str(content))\n",
    "    content = re.sub(r\"i'll\", \"I will\", str(content))\n",
    "    content = re.sub(r\"weren't\", \"were not\", str(content))\n",
    "    content = re.sub(r\"They're\", \"They are\", str(content))\n",
    "    content = re.sub(r\"let's\", \"let us\", str(content))\n",
    "    content = re.sub(r\"it's\", \"it is\", str(content))\n",
    "    content = re.sub(r\"can't\", \"cannot\", str(content))\n",
    "    content = re.sub(r\"don't\", \"do not\", str(content))\n",
    "    content = re.sub(r\"you're\", \"you are\", str(content))\n",
    "    content = re.sub(r\"i've\", \"I have\", str(content))\n",
    "    content = re.sub(r\"that's\", \"that is\", str(content))\n",
    "    content = re.sub(r\"i'll\", \"I will\", str(content))\n",
    "    content = re.sub(r\"doesn't\", \"does not\", str(content))\n",
    "    content = re.sub(r\"i'd\", \"I would\", str(content))\n",
    "    content = re.sub(r\"didn't\", \"did not\", str(content))\n",
    "    content = re.sub(r\"ain't\", \"am not\", str(content))\n",
    "    content = re.sub(r\"you'll\", \"you will\", str(content))\n",
    "    content = re.sub(r\"I've\", \"I have\", str(content))\n",
    "    content = re.sub(r\"Don't\", \"do not\", str(content))\n",
    "    content = re.sub(r\"I'll\", \"I will\", str(content))\n",
    "    content = re.sub(r\"I'd\", \"I would\", str(content))\n",
    "    content = re.sub(r\"Let's\", \"Let us\", str(content))\n",
    "    content = re.sub(r\"you'd\", \"You would\", str(content))\n",
    "    content = re.sub(r\"It's\", \"It is\", str(content))\n",
    "    content = re.sub(r\"Ain't\", \"am not\", str(content))\n",
    "    content = re.sub(r\"Haven't\", \"Have not\", str(content))\n",
    "    content = re.sub(r\"Could've\", \"Could have\", str(content))\n",
    "    content = re.sub(r\"youve\", \"you have\", str(content))\n",
    "    \n",
    "    # remove hyperlinks\n",
    "    content = re.sub(\"http\\S+\", '', str(content))\n",
    "    \n",
    "    return content    "
   ]
  },
  {
   "cell_type": "code",
   "execution_count": 6,
   "metadata": {},
   "outputs": [],
   "source": [
    "train.title = train.title.map(lambda x: preprocess(x))\n",
    "train.text = train.text.map(lambda x: preprocess(x))\n",
    "\n",
    "test.title = test.title.map(lambda x: preprocess(x))\n",
    "test.text = test.text.map(lambda x: preprocess(x))"
   ]
  },
  {
   "cell_type": "code",
   "execution_count": 7,
   "metadata": {},
   "outputs": [],
   "source": [
    "trainX1, trainX2, trainY = train.title, train.text, train.fake\n",
    "testX1, testX2, testY = test.title, test.text, test.fake"
   ]
  },
  {
   "cell_type": "code",
   "execution_count": 8,
   "metadata": {},
   "outputs": [],
   "source": [
    "# constructing pipelining steps\n",
    "\n",
    "## svm -- as a baseline\n",
    "from sklearn.svm import SVC\n",
    "uni_csvm1 = Pipeline([('vectorizer', CountVectorizer(ngram_range=(1, 1))), ('svm', SVC())])\n",
    "bi_csvm1 = Pipeline([('vectorizer', CountVectorizer(ngram_range=(2, 2))), ('svm', SVC())])\n",
    "tri_csvm1 = Pipeline([('vectorizer', CountVectorizer(ngram_range=(3, 3))), ('svm', SVC())])\n",
    "\n",
    "uni_csvm2 = Pipeline([('vectorizer', CountVectorizer(ngram_range=(1, 1))), ('svm', SVC())])\n",
    "bi_csvm2 = Pipeline([('vectorizer', CountVectorizer(ngram_range=(2, 2))), ('svm', SVC())])\n",
    "tri_csvm2 = Pipeline([('vectorizer', CountVectorizer(ngram_range=(3, 3))), ('svm', SVC())])\n",
    "\n",
    "\n",
    "uni_tfsvm1 = Pipeline([('vectorizer', TfidfVectorizer(ngram_range=(1, 1))), ('svm', SVC())])\n",
    "bi_tfsvm1 = Pipeline([('vectorizer', TfidfVectorizer(ngram_range=(2, 2))), ('svm', SVC())])\n",
    "tri_tfsvm1 = Pipeline([('vectorizer', TfidfVectorizer(ngram_range=(3, 3))), ('svm', SVC())])\n",
    "\n",
    "uni_tfsvm2 = Pipeline([('vectorizer', TfidfVectorizer(ngram_range=(1, 1))), ('svm', SVC())])\n",
    "bi_tfsvm2 = Pipeline([('vectorizer', TfidfVectorizer(ngram_range=(2, 2))), ('svm', SVC())])\n",
    "tri_tfsvm2 = Pipeline([('vectorizer', TfidfVectorizer(ngram_range=(3, 3))), ('svm', SVC())])\n",
    "\n",
    "## NaiveBayes\n",
    "from sklearn.naive_bayes import BernoulliNB as NB # as there are only two classes - fake or not\n",
    "uni_cnb1 = Pipeline([('vectorizer', CountVectorizer(ngram_range=(1, 1))), ('nb', NB())])\n",
    "bi_cnb1 = Pipeline([('vectorizer', CountVectorizer(ngram_range=(2, 2))), ('nb', NB())])\n",
    "tri_cnb1 = Pipeline([('vectorizer', CountVectorizer(ngram_range=(3, 3))), ('nb', NB())])\n",
    "\n",
    "uni_cnb2 = Pipeline([('vectorizer', CountVectorizer(ngram_range=(1, 1))), ('nb', NB())])\n",
    "bi_cnb2 = Pipeline([('vectorizer', CountVectorizer(ngram_range=(2, 2))), ('nb', NB())])\n",
    "tri_cnb2 = Pipeline([('vectorizer', CountVectorizer(ngram_range=(3, 3))), ('nb', NB())])\n",
    "\n",
    "\n",
    "uni_tfnb1 = Pipeline([('vectorizer', TfidfVectorizer(ngram_range=(1, 1))), ('nb', NB())])\n",
    "bi_tfnb1 = Pipeline([('vectorizer', TfidfVectorizer(ngram_range=(2, 2))), ('nb', NB())])\n",
    "tri_tfnb1 = Pipeline([('vectorizer', TfidfVectorizer(ngram_range=(3, 3))), ('nb', NB())])\n",
    "\n",
    "uni_tfnb2 = Pipeline([('vectorizer', TfidfVectorizer(ngram_range=(1, 1))), ('nb', NB())])\n",
    "bi_tfnb2 = Pipeline([('vectorizer', TfidfVectorizer(ngram_range=(2, 2))), ('nb', NB())])\n",
    "tri_tfnb2 = Pipeline([('vectorizer', TfidfVectorizer(ngram_range=(3, 3))), ('nb', NB())])\n",
    "\n",
    "## Decision tree\n",
    "from sklearn.tree import DecisionTreeClassifier as DT\n",
    "uni_cdt1 = Pipeline([('vectorizer', CountVectorizer(ngram_range=(1, 1))), ('dt', DT(random_state = 0))])\n",
    "bi_cdt1 = Pipeline([('vectorizer', CountVectorizer(ngram_range=(2, 2))), ('dt', DT(random_state = 0))])\n",
    "tri_cdt1 = Pipeline([('vectorizer', CountVectorizer(ngram_range=(3, 3))), ('dt', DT(random_state = 0))])\n",
    "\n",
    "uni_cdt2 = Pipeline([('vectorizer', CountVectorizer(ngram_range=(1, 1))), ('dt', DT(random_state = 0))])\n",
    "bi_cdt2 = Pipeline([('vectorizer', CountVectorizer(ngram_range=(2, 2))), ('dt', DT(random_state = 0))])\n",
    "tri_cdt2 = Pipeline([('vectorizer', CountVectorizer(ngram_range=(3, 3))), ('dt', DT(random_state = 0))])\n",
    "\n",
    "\n",
    "uni_tfdt1 = Pipeline([('vectorizer', TfidfVectorizer(ngram_range=(1, 1))), ('dt', DT(random_state = 0))])\n",
    "bi_tfdt1 = Pipeline([('vectorizer', TfidfVectorizer(ngram_range=(2, 2))), ('dt', DT(random_state = 0))])\n",
    "tri_tfdt1 = Pipeline([('vectorizer', TfidfVectorizer(ngram_range=(3, 3))), ('dt', DT(random_state = 0))])\n",
    "\n",
    "uni_tfdt2 = Pipeline([('vectorizer', TfidfVectorizer(ngram_range=(1, 1))), ('dt', DT(random_state = 0))])\n",
    "bi_tfdt2 = Pipeline([('vectorizer', TfidfVectorizer(ngram_range=(2, 2))), ('dt', DT(random_state = 0))])\n",
    "tri_tfdt2 = Pipeline([('vectorizer', TfidfVectorizer(ngram_range=(3, 3))), ('dt', DT(random_state = 0))])"
   ]
  },
  {
   "cell_type": "markdown",
   "metadata": {},
   "source": [
    "## train and test the models\n",
    "### train the models"
   ]
  },
  {
   "cell_type": "code",
   "execution_count": 9,
   "metadata": {},
   "outputs": [
    {
     "output_type": "execute_result",
     "data": {
      "text/plain": [
       "Pipeline(steps=[('vectorizer', TfidfVectorizer(ngram_range=(3, 3))),\n",
       "                ('dt', DecisionTreeClassifier(random_state=0))])"
      ]
     },
     "metadata": {},
     "execution_count": 9
    }
   ],
   "source": [
    "# train by title\n",
    "## SVM as baseline\n",
    "uni_csvm1.fit(trainX1, trainY)\n",
    "bi_csvm1.fit(trainX1, trainY)\n",
    "tri_csvm1.fit(trainX1, trainY)\n",
    "\n",
    "uni_tfsvm1.fit(trainX1, trainY)\n",
    "bi_tfsvm1.fit(trainX1, trainY)\n",
    "tri_tfsvm1.fit(trainX1, trainY)\n",
    "\n",
    "## NB classifier\n",
    "uni_cnb1.fit(trainX1, trainY)\n",
    "bi_cnb1.fit(trainX1, trainY)\n",
    "tri_cnb1.fit(trainX1, trainY)\n",
    "\n",
    "uni_tfnb1.fit(trainX1, trainY)\n",
    "bi_tfnb1.fit(trainX1, trainY)\n",
    "tri_tfnb1.fit(trainX1, trainY)\n",
    "\n",
    "## DT classifier\n",
    "uni_cdt1.fit(trainX1, trainY)\n",
    "bi_cdt1.fit(trainX1, trainY)\n",
    "tri_cdt1.fit(trainX1, trainY)\n",
    "\n",
    "uni_tfdt1.fit(trainX1, trainY)\n",
    "bi_tfdt1.fit(trainX1, trainY)\n",
    "tri_tfdt1.fit(trainX1, trainY)\n",
    "\n",
    "# train by text\n",
    "## SVM as baseline\n",
    "uni_csvm2.fit(trainX2, trainY)\n",
    "bi_csvm2.fit(trainX2, trainY)\n",
    "tri_csvm2.fit(trainX2, trainY)\n",
    "\n",
    "uni_tfsvm2.fit(trainX2, trainY)\n",
    "bi_tfsvm2.fit(trainX2, trainY)\n",
    "tri_tfsvm2.fit(trainX2, trainY)\n",
    "\n",
    "## NB classifier\n",
    "uni_cnb2.fit(trainX2, trainY)\n",
    "bi_cnb2.fit(trainX2, trainY)\n",
    "tri_cnb2.fit(trainX2, trainY)\n",
    "\n",
    "uni_tfnb2.fit(trainX2, trainY)\n",
    "bi_tfnb2.fit(trainX2, trainY)\n",
    "tri_tfnb2.fit(trainX2, trainY)\n",
    "\n",
    "## DT classifier\n",
    "uni_cdt2.fit(trainX2, trainY)\n",
    "bi_cdt2.fit(trainX2, trainY)\n",
    "tri_cdt2.fit(trainX2, trainY)\n",
    "\n",
    "uni_tfdt2.fit(trainX2, trainY)\n",
    "bi_tfdt2.fit(trainX2, trainY)\n",
    "tri_tfdt2.fit(trainX2, trainY)"
   ]
  },
  {
   "cell_type": "code",
   "execution_count": 10,
   "metadata": {},
   "outputs": [],
   "source": [
    "# confusion matrix for each case\n",
    "from sklearn.metrics import confusion_matrix\n",
    "\n",
    "# classification report for each case\n",
    "from sklearn.metrics import classification_report"
   ]
  },
  {
   "cell_type": "code",
   "execution_count": 38,
   "metadata": {},
   "outputs": [],
   "source": [
    "# title to title\n",
    "## svm\n",
    "title_uni_csvm = uni_csvm1.predict(testX1)\n",
    "title_bi_csvm = bi_csvm1.predict(testX1)\n",
    "title_tri_csvm = tri_csvm1.predict(testX1)\n",
    "\n",
    "title_uni_tfsvm = uni_tfsvm1.predict(testX1)\n",
    "title_bi_tfsvm = bi_tfsvm1.predict(testX1)\n",
    "title_tri_tfsvm = tri_tfsvm1.predict(testX1)"
   ]
  },
  {
   "cell_type": "code",
   "execution_count": 39,
   "metadata": {},
   "outputs": [],
   "source": [
    "## nb\n",
    "title_uni_cnb = uni_cnb1.predict(testX1)\n",
    "title_bi_cnb = bi_cnb1.predict(testX1)\n",
    "title_tri_cnb = tri_cnb1.predict(testX1)\n",
    "\n",
    "title_uni_tfnb = uni_tfnb1.predict(testX1)\n",
    "title_bi_tfnb = bi_tfnb1.predict(testX1)\n",
    "title_tri_tfnb = tri_tfnb1.predict(testX1)"
   ]
  },
  {
   "cell_type": "code",
   "execution_count": 15,
   "metadata": {},
   "outputs": [],
   "source": [
    "## dt\n",
    "title_uni_cdt = uni_cdt1.predict(testX1)\n",
    "title_bi_cdt = bi_cdt1.predict(testX1)\n",
    "title_tri_cdt = tri_cdt1.predict(testX1)\n",
    "\n",
    "title_uni_tfdt = uni_tfdt1.predict(testX1)\n",
    "title_bi_tfdt = bi_tfdt1.predict(testX1)\n",
    "title_tri_tfdt = tri_tfdt1.predict(testX1)"
   ]
  },
  {
   "cell_type": "code",
   "execution_count": null,
   "metadata": {},
   "outputs": [],
   "source": [
    "# laptop constantly has problems for running too long time -- try tri-gram in the last."
   ]
  },
  {
   "cell_type": "code",
   "execution_count": 20,
   "metadata": {},
   "outputs": [],
   "source": [
    "# text to text\n",
    "## svm\n",
    "text_uni_csvm = uni_csvm2.predict(testX2)\n",
    "text_bi_csvm = bi_csvm2.predict(testX2)\n",
    "#text_tri_csvm = tri_csvm2.predict(testX2)\n",
    "\n",
    "text_uni_tfsvm = uni_tfsvm2.predict(testX2)\n",
    "text_bi_tfsvm = bi_tfsvm2.predict(testX2)\n",
    "#text_tri_tfsvm = tri_tfsvm2.predict(testX2)"
   ]
  },
  {
   "cell_type": "code",
   "execution_count": 21,
   "metadata": {},
   "outputs": [],
   "source": [
    "## nb\n",
    "text_uni_cnb = uni_cnb2.predict(testX2)\n",
    "text_bi_cnb = bi_cnb2.predict(testX2)\n",
    "#text_tri_cnb = tri_cnb2.predict(testX2)\n",
    "\n",
    "text_uni_tfnb = uni_tfnb2.predict(testX2)\n",
    "text_bi_tfnb = bi_tfnb2.predict(testX2)\n",
    "#text_tri_tfnb = tri_tfnb2.predict(testX2)"
   ]
  },
  {
   "cell_type": "code",
   "execution_count": 22,
   "metadata": {},
   "outputs": [],
   "source": [
    "## dt\n",
    "text_uni_cdt = uni_cdt2.predict(testX2)\n",
    "text_bi_cdt = bi_cdt2.predict(testX2)\n",
    "#text_tri_cdt = tri_cdt2.predict(testX2)\n",
    "\n",
    "text_uni_tfdt = uni_tfdt2.predict(testX2)\n",
    "text_bi_tfdt = bi_tfdt2.predict(testX2)\n",
    "#text_tri_tfdt = tri_tfdt2.predict(testX2)"
   ]
  },
  {
   "cell_type": "code",
   "execution_count": 23,
   "metadata": {},
   "outputs": [],
   "source": [
    "# text to title\n",
    "## svm\n",
    "ttitle_uni_csvm = uni_csvm2.predict(testX1)\n",
    "ttitle_bi_csvm = bi_csvm2.predict(testX1)\n",
    "#ttitle_tri_csvm = tri_csvm2.predict(testX1)\n",
    "\n",
    "ttitle_uni_tfsvm = uni_tfsvm2.predict(testX1)\n",
    "ttitle_bi_tfsvm = bi_tfsvm2.predict(testX1)\n",
    "#ttitle_tri_tfsvm = tri_tfsvm2.predict(testX1)\n",
    "\n",
    "## nb\n",
    "ttitle_uni_cnb = uni_cnb2.predict(testX1)\n",
    "ttitle_bi_cnb = bi_cnb2.predict(testX1)\n",
    "#ttitle_tri_cnb = tri_cnb2.predict(testX1)\n",
    "\n",
    "ttitle_uni_tfnb = uni_tfnb2.predict(testX1)\n",
    "ttitle_bi_tfnb = bi_tfnb2.predict(testX1)\n",
    "#ttitle_tri_tfnb = tri_tfnb2.predict(testX1)\n",
    "\n",
    "## dt\n",
    "ttitle_uni_cdt = uni_cdt2.predict(testX1)\n",
    "ttitle_bi_cdt = bi_cdt2.predict(testX1)\n",
    "#ttitle_tri_cdt = tri_cdt2.predict(testX1)\n",
    "\n",
    "ttitle_uni_tfdt = uni_tfdt2.predict(testX1)\n",
    "ttitle_bi_tfdt = bi_tfdt2.predict(testX1)\n",
    "#ttitle_tri_tfdt = tri_tfdt2.predict(testX1)"
   ]
  },
  {
   "cell_type": "code",
   "execution_count": 24,
   "metadata": {},
   "outputs": [],
   "source": [
    "# title to text\n",
    "## svm\n",
    "ttext_uni_csvm = uni_csvm1.predict(testX2)\n",
    "ttext_bi_csvm = bi_csvm1.predict(testX2)\n",
    "#ttext_tri_csvm = tri_csvm1.predict(testX2)\n",
    "\n",
    "ttext_uni_tfsvm = uni_tfsvm1.predict(testX2)\n",
    "ttext_bi_tfsvm = bi_tfsvm1.predict(testX2)\n",
    "#ttext_tri_tfsvm = tri_tfsvm1.predict(testX2)"
   ]
  },
  {
   "cell_type": "code",
   "execution_count": 25,
   "metadata": {},
   "outputs": [],
   "source": [
    "## nb\n",
    "ttext_uni_cnb = uni_cnb1.predict(testX2)\n",
    "ttext_bi_cnb = bi_cnb1.predict(testX2)\n",
    "#ttext_tri_cnb = tri_cnb1.predict(testX2)\n",
    "\n",
    "ttext_uni_tfnb = uni_tfnb1.predict(testX2)\n",
    "ttext_bi_tfnb = bi_tfnb1.predict(testX2)\n",
    "#ttext_tri_tfnb = tri_tfnb1.predict(testX2)"
   ]
  },
  {
   "cell_type": "code",
   "execution_count": 26,
   "metadata": {},
   "outputs": [],
   "source": [
    "## dt\n",
    "ttext_uni_cdt = uni_cdt1.predict(testX2)\n",
    "ttext_bi_cdt = bi_cdt1.predict(testX2)\n",
    "#ttext_tri_cdt = tri_cdt1.predict(testX2)\n",
    "\n",
    "ttext_uni_tfdt = uni_tfdt1.predict(testX2)\n",
    "ttext_bi_tfdt = bi_tfdt1.predict(testX2)\n",
    "#ttext_tri_tfdt = tri_tfdt1.predict(testX2)"
   ]
  },
  {
   "cell_type": "code",
   "execution_count": 28,
   "metadata": {},
   "outputs": [],
   "source": [
    "from sklearn.metrics import plot_confusion_matrix"
   ]
  },
  {
   "cell_type": "code",
   "execution_count": 30,
   "metadata": {},
   "outputs": [
    {
     "output_type": "display_data",
     "data": {
      "text/plain": "<Figure size 432x288 with 2 Axes>",
      "image/svg+xml": "<?xml version=\"1.0\" encoding=\"utf-8\" standalone=\"no\"?>\r\n<!DOCTYPE svg PUBLIC \"-//W3C//DTD SVG 1.1//EN\"\r\n  \"http://www.w3.org/Graphics/SVG/1.1/DTD/svg11.dtd\">\r\n<!-- Created with matplotlib (https://matplotlib.org/) -->\r\n<svg height=\"265.519189pt\" version=\"1.1\" viewBox=\"0 0 318.942625 265.519189\" width=\"318.942625pt\" xmlns=\"http://www.w3.org/2000/svg\" xmlns:xlink=\"http://www.w3.org/1999/xlink\">\r\n <metadata>\r\n  <rdf:RDF xmlns:cc=\"http://creativecommons.org/ns#\" xmlns:dc=\"http://purl.org/dc/elements/1.1/\" xmlns:rdf=\"http://www.w3.org/1999/02/22-rdf-syntax-ns#\">\r\n   <cc:Work>\r\n    <dc:type rdf:resource=\"http://purl.org/dc/dcmitype/StillImage\"/>\r\n    <dc:date>2021-03-18T09:45:03.844875</dc:date>\r\n    <dc:format>image/svg+xml</dc:format>\r\n    <dc:creator>\r\n     <cc:Agent>\r\n      <dc:title>Matplotlib v3.3.2, https://matplotlib.org/</dc:title>\r\n     </cc:Agent>\r\n    </dc:creator>\r\n   </cc:Work>\r\n  </rdf:RDF>\r\n </metadata>\r\n <defs>\r\n  <style type=\"text/css\">*{stroke-linecap:butt;stroke-linejoin:round;}</style>\r\n </defs>\r\n <g id=\"figure_1\">\r\n  <g id=\"patch_1\">\r\n   <path d=\"M 0 265.519189 \r\nL 318.942625 265.519189 \r\nL 318.942625 0 \r\nL 0 0 \r\nz\r\n\" style=\"fill:none;\"/>\r\n  </g>\r\n  <g id=\"axes_1\">\r\n   <g id=\"patch_2\">\r\n    <path d=\"M 34.240625 227.962939 \r\nL 251.680625 227.962939 \r\nL 251.680625 10.522939 \r\nL 34.240625 10.522939 \r\nz\r\n\" style=\"fill:#ffffff;\"/>\r\n   </g>\r\n   <g clip-path=\"url(#p97e1dbef45)\">\r\n    <image height=\"218\" id=\"imageda12ae60d7\" transform=\"scale(1 -1)translate(0 -218)\" width=\"218\" x=\"34.240625\" xlink:href=\"data:image/png;base64,\r\niVBORw0KGgoAAAANSUhEUgAAANoAAADaCAYAAADAHVzbAAACmklEQVR4nO3VsQ3CQAAEQYyILZFSBV24EOojde4maIYAavhkX4iZCi5Z3bJdH58TP2V/HbMnMOg8ewD8A6FBQGgQEBoEhAYBoUFAaBAQGgSEBgGhQUBoEBAaBIQGAaFBQGgQEBoEhAYBoUFAaBAQGgSEBgGhQUBoEBAaBIQGAaFBQGgQEBoEhAYBoUFAaBAQGgSEBgGhQUBoEBAaBIQGAaFBQGgQEBoEhAYBoUFAaBAQGgSEBgGhQUBoEBAaBIQGAaFBQGgQEBoEhAYBoUFAaBAQGgSEBgGhQUBoEBAaBIQGAaFBQGgQEBoEhAYBoUFAaBAQGgSEBgGhQUBoEBAaBIQGAaFBQGgQEBoEhAYBoUFAaBAQGgSEBgGhQUBoEBAaBIQGAaFBQGgQEBoEhAYBoUFAaBAQGgSEBgGhQUBoEBAaBIQGAaFBQGgQEBoEhAYBoUFAaBAQGgSEBgGhQUBoEBAaBC7v5zp7A4O22332BAZ5NAgIDQJCg4DQICA0CAgNAkKDgNAgIDQICA0CQoOA0CAgNAgIDQJCg4DQICA0CAgNAkKDgNAgIDQICA0CQoOA0CAgNAgIDQJCg4DQICA0CAgNAkKDgNAgIDQICA0CQoOA0CAgNAgIDQJCg4DQICA0CAgNAkKDgNAgIDQICA0CQoOA0CAgNAgIDQJCg4DQICA0CAgNAkKDgNAgIDQICA0CQoOA0CAgNAgIDQJCg4DQICA0CAgNAkKDgNAgIDQICA0CQoOA0CAgNAgIDQJCg4DQICA0CAgNAkKDgNAgIDQICA0CQoOA0CAgNAgIDQJCg4DQICA0CAgNAkKDgNAgIDQICA0CQoOA0CAgNAgIDQJCg4DQICA0CAgNAkKDgNAgIDQICA0CQoOA0CDwBXKRCAS9xLkoAAAAAElFTkSuQmCC\" y=\"-9.962939\"/>\r\n   </g>\r\n   <g id=\"matplotlib.axis_1\">\r\n    <g id=\"xtick_1\">\r\n     <g id=\"line2d_1\">\r\n      <defs>\r\n       <path d=\"M 0 0 \r\nL 0 3.5 \r\n\" id=\"mbf00968928\" style=\"stroke:#000000;stroke-width:0.8;\"/>\r\n      </defs>\r\n      <g>\r\n       <use style=\"stroke:#000000;stroke-width:0.8;\" x=\"88.600625\" xlink:href=\"#mbf00968928\" y=\"227.962939\"/>\r\n      </g>\r\n     </g>\r\n     <g id=\"text_1\">\r\n      <!-- 0 -->\r\n      <g transform=\"translate(85.419375 242.561377)scale(0.1 -0.1)\">\r\n       <defs>\r\n        <path d=\"M 31.78125 66.40625 \r\nQ 24.171875 66.40625 20.328125 58.90625 \r\nQ 16.5 51.421875 16.5 36.375 \r\nQ 16.5 21.390625 20.328125 13.890625 \r\nQ 24.171875 6.390625 31.78125 6.390625 \r\nQ 39.453125 6.390625 43.28125 13.890625 \r\nQ 47.125 21.390625 47.125 36.375 \r\nQ 47.125 51.421875 43.28125 58.90625 \r\nQ 39.453125 66.40625 31.78125 66.40625 \r\nz\r\nM 31.78125 74.21875 \r\nQ 44.046875 74.21875 50.515625 64.515625 \r\nQ 56.984375 54.828125 56.984375 36.375 \r\nQ 56.984375 17.96875 50.515625 8.265625 \r\nQ 44.046875 -1.421875 31.78125 -1.421875 \r\nQ 19.53125 -1.421875 13.0625 8.265625 \r\nQ 6.59375 17.96875 6.59375 36.375 \r\nQ 6.59375 54.828125 13.0625 64.515625 \r\nQ 19.53125 74.21875 31.78125 74.21875 \r\nz\r\n\" id=\"DejaVuSans-48\"/>\r\n       </defs>\r\n       <use xlink:href=\"#DejaVuSans-48\"/>\r\n      </g>\r\n     </g>\r\n    </g>\r\n    <g id=\"xtick_2\">\r\n     <g id=\"line2d_2\">\r\n      <g>\r\n       <use style=\"stroke:#000000;stroke-width:0.8;\" x=\"197.320625\" xlink:href=\"#mbf00968928\" y=\"227.962939\"/>\r\n      </g>\r\n     </g>\r\n     <g id=\"text_2\">\r\n      <!-- 1 -->\r\n      <g transform=\"translate(194.139375 242.561377)scale(0.1 -0.1)\">\r\n       <defs>\r\n        <path d=\"M 12.40625 8.296875 \r\nL 28.515625 8.296875 \r\nL 28.515625 63.921875 \r\nL 10.984375 60.40625 \r\nL 10.984375 69.390625 \r\nL 28.421875 72.90625 \r\nL 38.28125 72.90625 \r\nL 38.28125 8.296875 \r\nL 54.390625 8.296875 \r\nL 54.390625 0 \r\nL 12.40625 0 \r\nz\r\n\" id=\"DejaVuSans-49\"/>\r\n       </defs>\r\n       <use xlink:href=\"#DejaVuSans-49\"/>\r\n      </g>\r\n     </g>\r\n    </g>\r\n    <g id=\"text_3\">\r\n     <!-- Predicted label -->\r\n     <g transform=\"translate(105.808281 256.239502)scale(0.1 -0.1)\">\r\n      <defs>\r\n       <path d=\"M 19.671875 64.796875 \r\nL 19.671875 37.40625 \r\nL 32.078125 37.40625 \r\nQ 38.96875 37.40625 42.71875 40.96875 \r\nQ 46.484375 44.53125 46.484375 51.125 \r\nQ 46.484375 57.671875 42.71875 61.234375 \r\nQ 38.96875 64.796875 32.078125 64.796875 \r\nz\r\nM 9.8125 72.90625 \r\nL 32.078125 72.90625 \r\nQ 44.34375 72.90625 50.609375 67.359375 \r\nQ 56.890625 61.8125 56.890625 51.125 \r\nQ 56.890625 40.328125 50.609375 34.8125 \r\nQ 44.34375 29.296875 32.078125 29.296875 \r\nL 19.671875 29.296875 \r\nL 19.671875 0 \r\nL 9.8125 0 \r\nz\r\n\" id=\"DejaVuSans-80\"/>\r\n       <path d=\"M 41.109375 46.296875 \r\nQ 39.59375 47.171875 37.8125 47.578125 \r\nQ 36.03125 48 33.890625 48 \r\nQ 26.265625 48 22.1875 43.046875 \r\nQ 18.109375 38.09375 18.109375 28.8125 \r\nL 18.109375 0 \r\nL 9.078125 0 \r\nL 9.078125 54.6875 \r\nL 18.109375 54.6875 \r\nL 18.109375 46.1875 \r\nQ 20.953125 51.171875 25.484375 53.578125 \r\nQ 30.03125 56 36.53125 56 \r\nQ 37.453125 56 38.578125 55.875 \r\nQ 39.703125 55.765625 41.0625 55.515625 \r\nz\r\n\" id=\"DejaVuSans-114\"/>\r\n       <path d=\"M 56.203125 29.59375 \r\nL 56.203125 25.203125 \r\nL 14.890625 25.203125 \r\nQ 15.484375 15.921875 20.484375 11.0625 \r\nQ 25.484375 6.203125 34.421875 6.203125 \r\nQ 39.59375 6.203125 44.453125 7.46875 \r\nQ 49.3125 8.734375 54.109375 11.28125 \r\nL 54.109375 2.78125 \r\nQ 49.265625 0.734375 44.1875 -0.34375 \r\nQ 39.109375 -1.421875 33.890625 -1.421875 \r\nQ 20.796875 -1.421875 13.15625 6.1875 \r\nQ 5.515625 13.8125 5.515625 26.8125 \r\nQ 5.515625 40.234375 12.765625 48.109375 \r\nQ 20.015625 56 32.328125 56 \r\nQ 43.359375 56 49.78125 48.890625 \r\nQ 56.203125 41.796875 56.203125 29.59375 \r\nz\r\nM 47.21875 32.234375 \r\nQ 47.125 39.59375 43.09375 43.984375 \r\nQ 39.0625 48.390625 32.421875 48.390625 \r\nQ 24.90625 48.390625 20.390625 44.140625 \r\nQ 15.875 39.890625 15.1875 32.171875 \r\nz\r\n\" id=\"DejaVuSans-101\"/>\r\n       <path d=\"M 45.40625 46.390625 \r\nL 45.40625 75.984375 \r\nL 54.390625 75.984375 \r\nL 54.390625 0 \r\nL 45.40625 0 \r\nL 45.40625 8.203125 \r\nQ 42.578125 3.328125 38.25 0.953125 \r\nQ 33.9375 -1.421875 27.875 -1.421875 \r\nQ 17.96875 -1.421875 11.734375 6.484375 \r\nQ 5.515625 14.40625 5.515625 27.296875 \r\nQ 5.515625 40.1875 11.734375 48.09375 \r\nQ 17.96875 56 27.875 56 \r\nQ 33.9375 56 38.25 53.625 \r\nQ 42.578125 51.265625 45.40625 46.390625 \r\nz\r\nM 14.796875 27.296875 \r\nQ 14.796875 17.390625 18.875 11.75 \r\nQ 22.953125 6.109375 30.078125 6.109375 \r\nQ 37.203125 6.109375 41.296875 11.75 \r\nQ 45.40625 17.390625 45.40625 27.296875 \r\nQ 45.40625 37.203125 41.296875 42.84375 \r\nQ 37.203125 48.484375 30.078125 48.484375 \r\nQ 22.953125 48.484375 18.875 42.84375 \r\nQ 14.796875 37.203125 14.796875 27.296875 \r\nz\r\n\" id=\"DejaVuSans-100\"/>\r\n       <path d=\"M 9.421875 54.6875 \r\nL 18.40625 54.6875 \r\nL 18.40625 0 \r\nL 9.421875 0 \r\nz\r\nM 9.421875 75.984375 \r\nL 18.40625 75.984375 \r\nL 18.40625 64.59375 \r\nL 9.421875 64.59375 \r\nz\r\n\" id=\"DejaVuSans-105\"/>\r\n       <path d=\"M 48.78125 52.59375 \r\nL 48.78125 44.1875 \r\nQ 44.96875 46.296875 41.140625 47.34375 \r\nQ 37.3125 48.390625 33.40625 48.390625 \r\nQ 24.65625 48.390625 19.8125 42.84375 \r\nQ 14.984375 37.3125 14.984375 27.296875 \r\nQ 14.984375 17.28125 19.8125 11.734375 \r\nQ 24.65625 6.203125 33.40625 6.203125 \r\nQ 37.3125 6.203125 41.140625 7.25 \r\nQ 44.96875 8.296875 48.78125 10.40625 \r\nL 48.78125 2.09375 \r\nQ 45.015625 0.34375 40.984375 -0.53125 \r\nQ 36.96875 -1.421875 32.421875 -1.421875 \r\nQ 20.0625 -1.421875 12.78125 6.34375 \r\nQ 5.515625 14.109375 5.515625 27.296875 \r\nQ 5.515625 40.671875 12.859375 48.328125 \r\nQ 20.21875 56 33.015625 56 \r\nQ 37.15625 56 41.109375 55.140625 \r\nQ 45.0625 54.296875 48.78125 52.59375 \r\nz\r\n\" id=\"DejaVuSans-99\"/>\r\n       <path d=\"M 18.3125 70.21875 \r\nL 18.3125 54.6875 \r\nL 36.8125 54.6875 \r\nL 36.8125 47.703125 \r\nL 18.3125 47.703125 \r\nL 18.3125 18.015625 \r\nQ 18.3125 11.328125 20.140625 9.421875 \r\nQ 21.96875 7.515625 27.59375 7.515625 \r\nL 36.8125 7.515625 \r\nL 36.8125 0 \r\nL 27.59375 0 \r\nQ 17.1875 0 13.234375 3.875 \r\nQ 9.28125 7.765625 9.28125 18.015625 \r\nL 9.28125 47.703125 \r\nL 2.6875 47.703125 \r\nL 2.6875 54.6875 \r\nL 9.28125 54.6875 \r\nL 9.28125 70.21875 \r\nz\r\n\" id=\"DejaVuSans-116\"/>\r\n       <path id=\"DejaVuSans-32\"/>\r\n       <path d=\"M 9.421875 75.984375 \r\nL 18.40625 75.984375 \r\nL 18.40625 0 \r\nL 9.421875 0 \r\nz\r\n\" id=\"DejaVuSans-108\"/>\r\n       <path d=\"M 34.28125 27.484375 \r\nQ 23.390625 27.484375 19.1875 25 \r\nQ 14.984375 22.515625 14.984375 16.5 \r\nQ 14.984375 11.71875 18.140625 8.90625 \r\nQ 21.296875 6.109375 26.703125 6.109375 \r\nQ 34.1875 6.109375 38.703125 11.40625 \r\nQ 43.21875 16.703125 43.21875 25.484375 \r\nL 43.21875 27.484375 \r\nz\r\nM 52.203125 31.203125 \r\nL 52.203125 0 \r\nL 43.21875 0 \r\nL 43.21875 8.296875 \r\nQ 40.140625 3.328125 35.546875 0.953125 \r\nQ 30.953125 -1.421875 24.3125 -1.421875 \r\nQ 15.921875 -1.421875 10.953125 3.296875 \r\nQ 6 8.015625 6 15.921875 \r\nQ 6 25.140625 12.171875 29.828125 \r\nQ 18.359375 34.515625 30.609375 34.515625 \r\nL 43.21875 34.515625 \r\nL 43.21875 35.40625 \r\nQ 43.21875 41.609375 39.140625 45 \r\nQ 35.0625 48.390625 27.6875 48.390625 \r\nQ 23 48.390625 18.546875 47.265625 \r\nQ 14.109375 46.140625 10.015625 43.890625 \r\nL 10.015625 52.203125 \r\nQ 14.9375 54.109375 19.578125 55.046875 \r\nQ 24.21875 56 28.609375 56 \r\nQ 40.484375 56 46.34375 49.84375 \r\nQ 52.203125 43.703125 52.203125 31.203125 \r\nz\r\n\" id=\"DejaVuSans-97\"/>\r\n       <path d=\"M 48.6875 27.296875 \r\nQ 48.6875 37.203125 44.609375 42.84375 \r\nQ 40.53125 48.484375 33.40625 48.484375 \r\nQ 26.265625 48.484375 22.1875 42.84375 \r\nQ 18.109375 37.203125 18.109375 27.296875 \r\nQ 18.109375 17.390625 22.1875 11.75 \r\nQ 26.265625 6.109375 33.40625 6.109375 \r\nQ 40.53125 6.109375 44.609375 11.75 \r\nQ 48.6875 17.390625 48.6875 27.296875 \r\nz\r\nM 18.109375 46.390625 \r\nQ 20.953125 51.265625 25.265625 53.625 \r\nQ 29.59375 56 35.59375 56 \r\nQ 45.5625 56 51.78125 48.09375 \r\nQ 58.015625 40.1875 58.015625 27.296875 \r\nQ 58.015625 14.40625 51.78125 6.484375 \r\nQ 45.5625 -1.421875 35.59375 -1.421875 \r\nQ 29.59375 -1.421875 25.265625 0.953125 \r\nQ 20.953125 3.328125 18.109375 8.203125 \r\nL 18.109375 0 \r\nL 9.078125 0 \r\nL 9.078125 75.984375 \r\nL 18.109375 75.984375 \r\nz\r\n\" id=\"DejaVuSans-98\"/>\r\n      </defs>\r\n      <use xlink:href=\"#DejaVuSans-80\"/>\r\n      <use x=\"58.552734\" xlink:href=\"#DejaVuSans-114\"/>\r\n      <use x=\"97.416016\" xlink:href=\"#DejaVuSans-101\"/>\r\n      <use x=\"158.939453\" xlink:href=\"#DejaVuSans-100\"/>\r\n      <use x=\"222.416016\" xlink:href=\"#DejaVuSans-105\"/>\r\n      <use x=\"250.199219\" xlink:href=\"#DejaVuSans-99\"/>\r\n      <use x=\"305.179688\" xlink:href=\"#DejaVuSans-116\"/>\r\n      <use x=\"344.388672\" xlink:href=\"#DejaVuSans-101\"/>\r\n      <use x=\"405.912109\" xlink:href=\"#DejaVuSans-100\"/>\r\n      <use x=\"469.388672\" xlink:href=\"#DejaVuSans-32\"/>\r\n      <use x=\"501.175781\" xlink:href=\"#DejaVuSans-108\"/>\r\n      <use x=\"528.958984\" xlink:href=\"#DejaVuSans-97\"/>\r\n      <use x=\"590.238281\" xlink:href=\"#DejaVuSans-98\"/>\r\n      <use x=\"653.714844\" xlink:href=\"#DejaVuSans-101\"/>\r\n      <use x=\"715.238281\" xlink:href=\"#DejaVuSans-108\"/>\r\n     </g>\r\n    </g>\r\n   </g>\r\n   <g id=\"matplotlib.axis_2\">\r\n    <g id=\"ytick_1\">\r\n     <g id=\"line2d_3\">\r\n      <defs>\r\n       <path d=\"M 0 0 \r\nL -3.5 0 \r\n\" id=\"m6cf42a07fe\" style=\"stroke:#000000;stroke-width:0.8;\"/>\r\n      </defs>\r\n      <g>\r\n       <use style=\"stroke:#000000;stroke-width:0.8;\" x=\"34.240625\" xlink:href=\"#m6cf42a07fe\" y=\"64.882939\"/>\r\n      </g>\r\n     </g>\r\n     <g id=\"text_4\">\r\n      <!-- 0 -->\r\n      <g transform=\"translate(20.878125 68.682158)scale(0.1 -0.1)\">\r\n       <use xlink:href=\"#DejaVuSans-48\"/>\r\n      </g>\r\n     </g>\r\n    </g>\r\n    <g id=\"ytick_2\">\r\n     <g id=\"line2d_4\">\r\n      <g>\r\n       <use style=\"stroke:#000000;stroke-width:0.8;\" x=\"34.240625\" xlink:href=\"#m6cf42a07fe\" y=\"173.602939\"/>\r\n      </g>\r\n     </g>\r\n     <g id=\"text_5\">\r\n      <!-- 1 -->\r\n      <g transform=\"translate(20.878125 177.402158)scale(0.1 -0.1)\">\r\n       <use xlink:href=\"#DejaVuSans-49\"/>\r\n      </g>\r\n     </g>\r\n    </g>\r\n    <g id=\"text_6\">\r\n     <!-- True label -->\r\n     <g transform=\"translate(14.798437 143.542158)rotate(-90)scale(0.1 -0.1)\">\r\n      <defs>\r\n       <path d=\"M -0.296875 72.90625 \r\nL 61.375 72.90625 \r\nL 61.375 64.59375 \r\nL 35.5 64.59375 \r\nL 35.5 0 \r\nL 25.59375 0 \r\nL 25.59375 64.59375 \r\nL -0.296875 64.59375 \r\nz\r\n\" id=\"DejaVuSans-84\"/>\r\n       <path d=\"M 8.5 21.578125 \r\nL 8.5 54.6875 \r\nL 17.484375 54.6875 \r\nL 17.484375 21.921875 \r\nQ 17.484375 14.15625 20.5 10.265625 \r\nQ 23.53125 6.390625 29.59375 6.390625 \r\nQ 36.859375 6.390625 41.078125 11.03125 \r\nQ 45.3125 15.671875 45.3125 23.6875 \r\nL 45.3125 54.6875 \r\nL 54.296875 54.6875 \r\nL 54.296875 0 \r\nL 45.3125 0 \r\nL 45.3125 8.40625 \r\nQ 42.046875 3.421875 37.71875 1 \r\nQ 33.40625 -1.421875 27.6875 -1.421875 \r\nQ 18.265625 -1.421875 13.375 4.4375 \r\nQ 8.5 10.296875 8.5 21.578125 \r\nz\r\nM 31.109375 56 \r\nz\r\n\" id=\"DejaVuSans-117\"/>\r\n      </defs>\r\n      <use xlink:href=\"#DejaVuSans-84\"/>\r\n      <use x=\"46.333984\" xlink:href=\"#DejaVuSans-114\"/>\r\n      <use x=\"87.447266\" xlink:href=\"#DejaVuSans-117\"/>\r\n      <use x=\"150.826172\" xlink:href=\"#DejaVuSans-101\"/>\r\n      <use x=\"212.349609\" xlink:href=\"#DejaVuSans-32\"/>\r\n      <use x=\"244.136719\" xlink:href=\"#DejaVuSans-108\"/>\r\n      <use x=\"271.919922\" xlink:href=\"#DejaVuSans-97\"/>\r\n      <use x=\"333.199219\" xlink:href=\"#DejaVuSans-98\"/>\r\n      <use x=\"396.675781\" xlink:href=\"#DejaVuSans-101\"/>\r\n      <use x=\"458.199219\" xlink:href=\"#DejaVuSans-108\"/>\r\n     </g>\r\n    </g>\r\n   </g>\r\n   <g id=\"patch_3\">\r\n    <path d=\"M 34.240625 227.962939 \r\nL 34.240625 10.522939 \r\n\" style=\"fill:none;stroke:#000000;stroke-linecap:square;stroke-linejoin:miter;stroke-width:0.8;\"/>\r\n   </g>\r\n   <g id=\"patch_4\">\r\n    <path d=\"M 251.680625 227.962939 \r\nL 251.680625 10.522939 \r\n\" style=\"fill:none;stroke:#000000;stroke-linecap:square;stroke-linejoin:miter;stroke-width:0.8;\"/>\r\n   </g>\r\n   <g id=\"patch_5\">\r\n    <path d=\"M 34.240625 227.962939 \r\nL 251.680625 227.962939 \r\n\" style=\"fill:none;stroke:#000000;stroke-linecap:square;stroke-linejoin:miter;stroke-width:0.8;\"/>\r\n   </g>\r\n   <g id=\"patch_6\">\r\n    <path d=\"M 34.240625 10.522939 \r\nL 251.680625 10.522939 \r\n\" style=\"fill:none;stroke:#000000;stroke-linecap:square;stroke-linejoin:miter;stroke-width:0.8;\"/>\r\n   </g>\r\n   <g id=\"text_7\">\r\n    <!-- 4206 -->\r\n    <g style=\"fill:#440154;\" transform=\"translate(75.875625 67.642314)scale(0.1 -0.1)\">\r\n     <defs>\r\n      <path d=\"M 37.796875 64.3125 \r\nL 12.890625 25.390625 \r\nL 37.796875 25.390625 \r\nz\r\nM 35.203125 72.90625 \r\nL 47.609375 72.90625 \r\nL 47.609375 25.390625 \r\nL 58.015625 25.390625 \r\nL 58.015625 17.1875 \r\nL 47.609375 17.1875 \r\nL 47.609375 0 \r\nL 37.796875 0 \r\nL 37.796875 17.1875 \r\nL 4.890625 17.1875 \r\nL 4.890625 26.703125 \r\nz\r\n\" id=\"DejaVuSans-52\"/>\r\n      <path d=\"M 19.1875 8.296875 \r\nL 53.609375 8.296875 \r\nL 53.609375 0 \r\nL 7.328125 0 \r\nL 7.328125 8.296875 \r\nQ 12.9375 14.109375 22.625 23.890625 \r\nQ 32.328125 33.6875 34.8125 36.53125 \r\nQ 39.546875 41.84375 41.421875 45.53125 \r\nQ 43.3125 49.21875 43.3125 52.78125 \r\nQ 43.3125 58.59375 39.234375 62.25 \r\nQ 35.15625 65.921875 28.609375 65.921875 \r\nQ 23.96875 65.921875 18.8125 64.3125 \r\nQ 13.671875 62.703125 7.8125 59.421875 \r\nL 7.8125 69.390625 \r\nQ 13.765625 71.78125 18.9375 73 \r\nQ 24.125 74.21875 28.421875 74.21875 \r\nQ 39.75 74.21875 46.484375 68.546875 \r\nQ 53.21875 62.890625 53.21875 53.421875 \r\nQ 53.21875 48.921875 51.53125 44.890625 \r\nQ 49.859375 40.875 45.40625 35.40625 \r\nQ 44.1875 33.984375 37.640625 27.21875 \r\nQ 31.109375 20.453125 19.1875 8.296875 \r\nz\r\n\" id=\"DejaVuSans-50\"/>\r\n      <path d=\"M 33.015625 40.375 \r\nQ 26.375 40.375 22.484375 35.828125 \r\nQ 18.609375 31.296875 18.609375 23.390625 \r\nQ 18.609375 15.53125 22.484375 10.953125 \r\nQ 26.375 6.390625 33.015625 6.390625 \r\nQ 39.65625 6.390625 43.53125 10.953125 \r\nQ 47.40625 15.53125 47.40625 23.390625 \r\nQ 47.40625 31.296875 43.53125 35.828125 \r\nQ 39.65625 40.375 33.015625 40.375 \r\nz\r\nM 52.59375 71.296875 \r\nL 52.59375 62.3125 \r\nQ 48.875 64.0625 45.09375 64.984375 \r\nQ 41.3125 65.921875 37.59375 65.921875 \r\nQ 27.828125 65.921875 22.671875 59.328125 \r\nQ 17.53125 52.734375 16.796875 39.40625 \r\nQ 19.671875 43.65625 24.015625 45.921875 \r\nQ 28.375 48.1875 33.59375 48.1875 \r\nQ 44.578125 48.1875 50.953125 41.515625 \r\nQ 57.328125 34.859375 57.328125 23.390625 \r\nQ 57.328125 12.15625 50.6875 5.359375 \r\nQ 44.046875 -1.421875 33.015625 -1.421875 \r\nQ 20.359375 -1.421875 13.671875 8.265625 \r\nQ 6.984375 17.96875 6.984375 36.375 \r\nQ 6.984375 53.65625 15.1875 63.9375 \r\nQ 23.390625 74.21875 37.203125 74.21875 \r\nQ 40.921875 74.21875 44.703125 73.484375 \r\nQ 48.484375 72.75 52.59375 71.296875 \r\nz\r\n\" id=\"DejaVuSans-54\"/>\r\n     </defs>\r\n     <use xlink:href=\"#DejaVuSans-52\"/>\r\n     <use x=\"63.623047\" xlink:href=\"#DejaVuSans-50\"/>\r\n     <use x=\"127.246094\" xlink:href=\"#DejaVuSans-48\"/>\r\n     <use x=\"190.869141\" xlink:href=\"#DejaVuSans-54\"/>\r\n    </g>\r\n   </g>\r\n   <g id=\"text_8\">\r\n    <!-- 78 -->\r\n    <g style=\"fill:#fde725;\" transform=\"translate(190.958125 67.642314)scale(0.1 -0.1)\">\r\n     <defs>\r\n      <path d=\"M 8.203125 72.90625 \r\nL 55.078125 72.90625 \r\nL 55.078125 68.703125 \r\nL 28.609375 0 \r\nL 18.3125 0 \r\nL 43.21875 64.59375 \r\nL 8.203125 64.59375 \r\nz\r\n\" id=\"DejaVuSans-55\"/>\r\n      <path d=\"M 31.78125 34.625 \r\nQ 24.75 34.625 20.71875 30.859375 \r\nQ 16.703125 27.09375 16.703125 20.515625 \r\nQ 16.703125 13.921875 20.71875 10.15625 \r\nQ 24.75 6.390625 31.78125 6.390625 \r\nQ 38.8125 6.390625 42.859375 10.171875 \r\nQ 46.921875 13.96875 46.921875 20.515625 \r\nQ 46.921875 27.09375 42.890625 30.859375 \r\nQ 38.875 34.625 31.78125 34.625 \r\nz\r\nM 21.921875 38.8125 \r\nQ 15.578125 40.375 12.03125 44.71875 \r\nQ 8.5 49.078125 8.5 55.328125 \r\nQ 8.5 64.0625 14.71875 69.140625 \r\nQ 20.953125 74.21875 31.78125 74.21875 \r\nQ 42.671875 74.21875 48.875 69.140625 \r\nQ 55.078125 64.0625 55.078125 55.328125 \r\nQ 55.078125 49.078125 51.53125 44.71875 \r\nQ 48 40.375 41.703125 38.8125 \r\nQ 48.828125 37.15625 52.796875 32.3125 \r\nQ 56.78125 27.484375 56.78125 20.515625 \r\nQ 56.78125 9.90625 50.3125 4.234375 \r\nQ 43.84375 -1.421875 31.78125 -1.421875 \r\nQ 19.734375 -1.421875 13.25 4.234375 \r\nQ 6.78125 9.90625 6.78125 20.515625 \r\nQ 6.78125 27.484375 10.78125 32.3125 \r\nQ 14.796875 37.15625 21.921875 38.8125 \r\nz\r\nM 18.3125 54.390625 \r\nQ 18.3125 48.734375 21.84375 45.5625 \r\nQ 25.390625 42.390625 31.78125 42.390625 \r\nQ 38.140625 42.390625 41.71875 45.5625 \r\nQ 45.3125 48.734375 45.3125 54.390625 \r\nQ 45.3125 60.0625 41.71875 63.234375 \r\nQ 38.140625 66.40625 31.78125 66.40625 \r\nQ 25.390625 66.40625 21.84375 63.234375 \r\nQ 18.3125 60.0625 18.3125 54.390625 \r\nz\r\n\" id=\"DejaVuSans-56\"/>\r\n     </defs>\r\n     <use xlink:href=\"#DejaVuSans-55\"/>\r\n     <use x=\"63.623047\" xlink:href=\"#DejaVuSans-56\"/>\r\n    </g>\r\n   </g>\r\n   <g id=\"text_9\">\r\n    <!-- 335 -->\r\n    <g style=\"fill:#fde725;\" transform=\"translate(79.056875 176.362314)scale(0.1 -0.1)\">\r\n     <defs>\r\n      <path d=\"M 40.578125 39.3125 \r\nQ 47.65625 37.796875 51.625 33 \r\nQ 55.609375 28.21875 55.609375 21.1875 \r\nQ 55.609375 10.40625 48.1875 4.484375 \r\nQ 40.765625 -1.421875 27.09375 -1.421875 \r\nQ 22.515625 -1.421875 17.65625 -0.515625 \r\nQ 12.796875 0.390625 7.625 2.203125 \r\nL 7.625 11.71875 \r\nQ 11.71875 9.328125 16.59375 8.109375 \r\nQ 21.484375 6.890625 26.8125 6.890625 \r\nQ 36.078125 6.890625 40.9375 10.546875 \r\nQ 45.796875 14.203125 45.796875 21.1875 \r\nQ 45.796875 27.640625 41.28125 31.265625 \r\nQ 36.765625 34.90625 28.71875 34.90625 \r\nL 20.21875 34.90625 \r\nL 20.21875 43.015625 \r\nL 29.109375 43.015625 \r\nQ 36.375 43.015625 40.234375 45.921875 \r\nQ 44.09375 48.828125 44.09375 54.296875 \r\nQ 44.09375 59.90625 40.109375 62.90625 \r\nQ 36.140625 65.921875 28.71875 65.921875 \r\nQ 24.65625 65.921875 20.015625 65.03125 \r\nQ 15.375 64.15625 9.8125 62.3125 \r\nL 9.8125 71.09375 \r\nQ 15.4375 72.65625 20.34375 73.4375 \r\nQ 25.25 74.21875 29.59375 74.21875 \r\nQ 40.828125 74.21875 47.359375 69.109375 \r\nQ 53.90625 64.015625 53.90625 55.328125 \r\nQ 53.90625 49.265625 50.4375 45.09375 \r\nQ 46.96875 40.921875 40.578125 39.3125 \r\nz\r\n\" id=\"DejaVuSans-51\"/>\r\n      <path d=\"M 10.796875 72.90625 \r\nL 49.515625 72.90625 \r\nL 49.515625 64.59375 \r\nL 19.828125 64.59375 \r\nL 19.828125 46.734375 \r\nQ 21.96875 47.46875 24.109375 47.828125 \r\nQ 26.265625 48.1875 28.421875 48.1875 \r\nQ 40.625 48.1875 47.75 41.5 \r\nQ 54.890625 34.8125 54.890625 23.390625 \r\nQ 54.890625 11.625 47.5625 5.09375 \r\nQ 40.234375 -1.421875 26.90625 -1.421875 \r\nQ 22.3125 -1.421875 17.546875 -0.640625 \r\nQ 12.796875 0.140625 7.71875 1.703125 \r\nL 7.71875 11.625 \r\nQ 12.109375 9.234375 16.796875 8.0625 \r\nQ 21.484375 6.890625 26.703125 6.890625 \r\nQ 35.15625 6.890625 40.078125 11.328125 \r\nQ 45.015625 15.765625 45.015625 23.390625 \r\nQ 45.015625 31 40.078125 35.4375 \r\nQ 35.15625 39.890625 26.703125 39.890625 \r\nQ 22.75 39.890625 18.8125 39.015625 \r\nQ 14.890625 38.140625 10.796875 36.28125 \r\nz\r\n\" id=\"DejaVuSans-53\"/>\r\n     </defs>\r\n     <use xlink:href=\"#DejaVuSans-51\"/>\r\n     <use x=\"63.623047\" xlink:href=\"#DejaVuSans-51\"/>\r\n     <use x=\"127.246094\" xlink:href=\"#DejaVuSans-53\"/>\r\n    </g>\r\n   </g>\r\n   <g id=\"text_10\">\r\n    <!-- 6013 -->\r\n    <g style=\"fill:#440154;\" transform=\"translate(184.595625 176.362314)scale(0.1 -0.1)\">\r\n     <use xlink:href=\"#DejaVuSans-54\"/>\r\n     <use x=\"63.623047\" xlink:href=\"#DejaVuSans-48\"/>\r\n     <use x=\"127.246094\" xlink:href=\"#DejaVuSans-49\"/>\r\n     <use x=\"190.869141\" xlink:href=\"#DejaVuSans-51\"/>\r\n    </g>\r\n   </g>\r\n  </g>\r\n  <g id=\"axes_2\">\r\n   <g id=\"patch_7\">\r\n    <path clip-path=\"url(#p18555bc679)\" d=\"M 268.420625 227.962939 \r\nL 268.420625 227.113564 \r\nL 268.420625 11.372314 \r\nL 268.420625 10.522939 \r\nL 279.292625 10.522939 \r\nL 279.292625 11.372314 \r\nL 279.292625 227.113564 \r\nL 279.292625 227.962939 \r\nz\r\n\" style=\"fill:#ffffff;stroke:#ffffff;stroke-linejoin:miter;stroke-width:0.01;\"/>\r\n   </g>\r\n   <image height=\"217\" id=\"imageb1c6b71573\" transform=\"scale(1 -1)translate(0 -217)\" width=\"11\" x=\"268\" xlink:href=\"data:image/png;base64,\r\niVBORw0KGgoAAAANSUhEUgAAAAsAAADZCAYAAAD2WsoCAAABYUlEQVR4nO3aQW7DMBBDUWkk52Q9Q+9/kLbptkA2egsC4yJZE8QnZ2Q7TuZHfT7H4WfPmqfaseda5+IxC8SCMaYwl2CI86A2qOce1VlAcs6J3238FcfaeK4eAYnZxt0D4/xKkMUQ5yBzynmIMy2/9UwYsTZsgrQbxgziJm0EMXLVUcAupxvE5IwBUxjoHLvI3LKNmPMd2zjX4vPGHSf4/8dNzi3GDRDv0/0iPj/fd9yNNm0Exw3MweoqhdGkDXhESrYxRi4gOM9YQOuZmE0MGNSGYZxTcMBUG6t+OmBUrI0l4hxGE+c1Ydzk3ES87xhQbhPWRn13wCgZih1YYaY2lrWR2jpqY08KmGMWZ+mZnC9pw1Y0thu5oTzmFzjHhlISkJb/koDUM16RyDm1G7T8ts/BgKkb0GPQpUCWn06KBTzWjn3ZgQXnBV8It7zd20t+yCjBuOB9lmKAMzEv+SOQYPwCBCyBaHjgE4oAAAAASUVORK5CYII=\" y=\"-10\"/>\r\n   <g id=\"matplotlib.axis_3\"/>\r\n   <g id=\"matplotlib.axis_4\">\r\n    <g id=\"ytick_3\">\r\n     <g id=\"line2d_5\">\r\n      <defs>\r\n       <path d=\"M 0 0 \r\nL 3.5 0 \r\n\" id=\"mbe7e4847fc\" style=\"stroke:#000000;stroke-width:0.8;\"/>\r\n      </defs>\r\n      <g>\r\n       <use style=\"stroke:#000000;stroke-width:0.8;\" x=\"279.292625\" xlink:href=\"#mbe7e4847fc\" y=\"194.183717\"/>\r\n      </g>\r\n     </g>\r\n     <g id=\"text_11\">\r\n      <!-- 1000 -->\r\n      <g transform=\"translate(286.292625 197.982936)scale(0.1 -0.1)\">\r\n       <use xlink:href=\"#DejaVuSans-49\"/>\r\n       <use x=\"63.623047\" xlink:href=\"#DejaVuSans-48\"/>\r\n       <use x=\"127.246094\" xlink:href=\"#DejaVuSans-48\"/>\r\n       <use x=\"190.869141\" xlink:href=\"#DejaVuSans-48\"/>\r\n      </g>\r\n     </g>\r\n    </g>\r\n    <g id=\"ytick_4\">\r\n     <g id=\"line2d_6\">\r\n      <g>\r\n       <use style=\"stroke:#000000;stroke-width:0.8;\" x=\"279.292625\" xlink:href=\"#mbe7e4847fc\" y=\"157.546818\"/>\r\n      </g>\r\n     </g>\r\n     <g id=\"text_12\">\r\n      <!-- 2000 -->\r\n      <g transform=\"translate(286.292625 161.346036)scale(0.1 -0.1)\">\r\n       <use xlink:href=\"#DejaVuSans-50\"/>\r\n       <use x=\"63.623047\" xlink:href=\"#DejaVuSans-48\"/>\r\n       <use x=\"127.246094\" xlink:href=\"#DejaVuSans-48\"/>\r\n       <use x=\"190.869141\" xlink:href=\"#DejaVuSans-48\"/>\r\n      </g>\r\n     </g>\r\n    </g>\r\n    <g id=\"ytick_5\">\r\n     <g id=\"line2d_7\">\r\n      <g>\r\n       <use style=\"stroke:#000000;stroke-width:0.8;\" x=\"279.292625\" xlink:href=\"#mbe7e4847fc\" y=\"120.909918\"/>\r\n      </g>\r\n     </g>\r\n     <g id=\"text_13\">\r\n      <!-- 3000 -->\r\n      <g transform=\"translate(286.292625 124.709137)scale(0.1 -0.1)\">\r\n       <use xlink:href=\"#DejaVuSans-51\"/>\r\n       <use x=\"63.623047\" xlink:href=\"#DejaVuSans-48\"/>\r\n       <use x=\"127.246094\" xlink:href=\"#DejaVuSans-48\"/>\r\n       <use x=\"190.869141\" xlink:href=\"#DejaVuSans-48\"/>\r\n      </g>\r\n     </g>\r\n    </g>\r\n    <g id=\"ytick_6\">\r\n     <g id=\"line2d_8\">\r\n      <g>\r\n       <use style=\"stroke:#000000;stroke-width:0.8;\" x=\"279.292625\" xlink:href=\"#mbe7e4847fc\" y=\"84.273018\"/>\r\n      </g>\r\n     </g>\r\n     <g id=\"text_14\">\r\n      <!-- 4000 -->\r\n      <g transform=\"translate(286.292625 88.072237)scale(0.1 -0.1)\">\r\n       <use xlink:href=\"#DejaVuSans-52\"/>\r\n       <use x=\"63.623047\" xlink:href=\"#DejaVuSans-48\"/>\r\n       <use x=\"127.246094\" xlink:href=\"#DejaVuSans-48\"/>\r\n       <use x=\"190.869141\" xlink:href=\"#DejaVuSans-48\"/>\r\n      </g>\r\n     </g>\r\n    </g>\r\n    <g id=\"ytick_7\">\r\n     <g id=\"line2d_9\">\r\n      <g>\r\n       <use style=\"stroke:#000000;stroke-width:0.8;\" x=\"279.292625\" xlink:href=\"#mbe7e4847fc\" y=\"47.636118\"/>\r\n      </g>\r\n     </g>\r\n     <g id=\"text_15\">\r\n      <!-- 5000 -->\r\n      <g transform=\"translate(286.292625 51.435337)scale(0.1 -0.1)\">\r\n       <use xlink:href=\"#DejaVuSans-53\"/>\r\n       <use x=\"63.623047\" xlink:href=\"#DejaVuSans-48\"/>\r\n       <use x=\"127.246094\" xlink:href=\"#DejaVuSans-48\"/>\r\n       <use x=\"190.869141\" xlink:href=\"#DejaVuSans-48\"/>\r\n      </g>\r\n     </g>\r\n    </g>\r\n    <g id=\"ytick_8\">\r\n     <g id=\"line2d_10\">\r\n      <g>\r\n       <use style=\"stroke:#000000;stroke-width:0.8;\" x=\"279.292625\" xlink:href=\"#mbe7e4847fc\" y=\"10.999219\"/>\r\n      </g>\r\n     </g>\r\n     <g id=\"text_16\">\r\n      <!-- 6000 -->\r\n      <g transform=\"translate(286.292625 14.798437)scale(0.1 -0.1)\">\r\n       <use xlink:href=\"#DejaVuSans-54\"/>\r\n       <use x=\"63.623047\" xlink:href=\"#DejaVuSans-48\"/>\r\n       <use x=\"127.246094\" xlink:href=\"#DejaVuSans-48\"/>\r\n       <use x=\"190.869141\" xlink:href=\"#DejaVuSans-48\"/>\r\n      </g>\r\n     </g>\r\n    </g>\r\n   </g>\r\n   <g id=\"patch_8\">\r\n    <path d=\"M 268.420625 227.962939 \r\nL 268.420625 227.113564 \r\nL 268.420625 11.372314 \r\nL 268.420625 10.522939 \r\nL 279.292625 10.522939 \r\nL 279.292625 11.372314 \r\nL 279.292625 227.113564 \r\nL 279.292625 227.962939 \r\nz\r\n\" style=\"fill:none;stroke:#000000;stroke-linejoin:miter;stroke-width:0.8;\"/>\r\n   </g>\r\n  </g>\r\n </g>\r\n <defs>\r\n  <clipPath id=\"p97e1dbef45\">\r\n   <rect height=\"217.44\" width=\"217.44\" x=\"34.240625\" y=\"10.522939\"/>\r\n  </clipPath>\r\n  <clipPath id=\"p18555bc679\">\r\n   <rect height=\"217.44\" width=\"10.872\" x=\"268.420625\" y=\"10.522939\"/>\r\n  </clipPath>\r\n </defs>\r\n</svg>\r\n",
      "image/png": "[encoded data removed]"
     },
     "metadata": {
      "needs_background": "light"
     }
    }
   ],
   "source": [
    "plot_confusion_matrix(uni_csvm1, testX1, testY)\n",
    "plt.show()"
   ]
  },
  {
   "cell_type": "code",
   "execution_count": 40,
   "metadata": {},
   "outputs": [
    {
     "output_type": "display_data",
     "data": {
      "text/plain": "<Figure size 432x288 with 2 Axes>",
      "image/svg+xml": "<?xml version=\"1.0\" encoding=\"utf-8\" standalone=\"no\"?>\r\n<!DOCTYPE svg PUBLIC \"-//W3C//DTD SVG 1.1//EN\"\r\n  \"http://www.w3.org/Graphics/SVG/1.1/DTD/svg11.dtd\">\r\n<!-- Created with matplotlib (https://matplotlib.org/) -->\r\n<svg height=\"263.796143pt\" version=\"1.1\" viewBox=\"0 0 318.942625 263.796143\" width=\"318.942625pt\" xmlns=\"http://www.w3.org/2000/svg\" xmlns:xlink=\"http://www.w3.org/1999/xlink\">\r\n <metadata>\r\n  <rdf:RDF xmlns:cc=\"http://creativecommons.org/ns#\" xmlns:dc=\"http://purl.org/dc/elements/1.1/\" xmlns:rdf=\"http://www.w3.org/1999/02/22-rdf-syntax-ns#\">\r\n   <cc:Work>\r\n    <dc:type rdf:resource=\"http://purl.org/dc/dcmitype/StillImage\"/>\r\n    <dc:date>2021-03-18T10:04:21.479373</dc:date>\r\n    <dc:format>image/svg+xml</dc:format>\r\n    <dc:creator>\r\n     <cc:Agent>\r\n      <dc:title>Matplotlib v3.3.2, https://matplotlib.org/</dc:title>\r\n     </cc:Agent>\r\n    </dc:creator>\r\n   </cc:Work>\r\n  </rdf:RDF>\r\n </metadata>\r\n <defs>\r\n  <style type=\"text/css\">*{stroke-linecap:butt;stroke-linejoin:round;}</style>\r\n </defs>\r\n <g id=\"figure_1\">\r\n  <g id=\"patch_1\">\r\n   <path d=\"M 0 263.796143 \r\nL 318.942625 263.796143 \r\nL 318.942625 0 \r\nL 0 0 \r\nz\r\n\" style=\"fill:none;\"/>\r\n  </g>\r\n  <g id=\"axes_1\">\r\n   <g id=\"patch_2\">\r\n    <path d=\"M 34.240625 226.239893 \r\nL 251.680625 226.239893 \r\nL 251.680625 8.799893 \r\nL 34.240625 8.799893 \r\nz\r\n\" style=\"fill:#ffffff;\"/>\r\n   </g>\r\n   <g clip-path=\"url(#p4f51f07cbf)\">\r\n    <image height=\"218\" id=\"imageed2ce10d12\" transform=\"scale(1 -1)translate(0 -218)\" width=\"218\" x=\"34.240625\" xlink:href=\"data:image/png;base64,\r\niVBORw0KGgoAAAANSUhEUgAAANoAAADaCAYAAADAHVzbAAACmklEQVR4nO3VQRHCQAAEQULlg4WoQAUxgUh+sYAKTCAANNxnrii6Fexnapfb5f458VOO13P2BAadZw+AfyA0CAgNAkKDgNAgIDQICA0CQoOA0CAgNAgIDQJCg4DQICA0CAgNAkKDgNAgIDQICA0CQoOA0CAgNAgIDQJCg4DQICA0CAgNAkKDgNAgIDQICA0CQoOA0CAgNAgIDQJCg4DQICA0CAgNAkKDgNAgIDQICA0CQoOA0CAgNAgIDQJCg4DQICA0CAgNAkKDgNAgIDQICA0CQoOA0CAgNAgIDQJCg4DQICA0CAgNAkKDgNAgIDQICA0CQoOA0CAgNAgIDQJCg4DQICA0CAgNAkKDgNAgIDQICA0CQoOA0CAgNAgIDQJCg4DQICA0CAgNAkKDgNAgIDQICA0CQoOA0CAgNAgIDQJCg4DQICA0CAgNAkKDgNAgIDQICA0CQoOA0CAgNAgIDQJCg8D6fmyzNzBo366zJzDIo0FAaBAQGgSEBgGhQUBoEBAaBIQGAaFBQGgQEBoEhAYBoUFAaBAQGgSEBgGhQUBoEBAaBIQGAaFBQGgQEBoEhAYBoUFAaBAQGgSEBgGhQUBoEBAaBIQGAaFBQGgQEBoEhAYBoUFAaBAQGgSEBgGhQUBoEBAaBIQGAaFBQGgQEBoEhAYBoUFAaBAQGgSEBgGhQUBoEBAaBIQGAaFBQGgQEBoEhAYBoUFAaBAQGgSEBgGhQUBoEBAaBIQGAaFBQGgQEBoEhAYBoUFAaBAQGgSEBgGhQUBoEBAaBIQGAaFBQGgQEBoEhAYBoUFAaBAQGgSEBgGhQUBoEBAaBIQGAaFBQGgQEBoEhAYBoUFAaBAQGgSEBgGhQUBoEBAaBIQGAaFBQGgQEBoEhAaBL4G4CAsguthLAAAAAElFTkSuQmCC\" y=\"-8.239893\"/>\r\n   </g>\r\n   <g id=\"matplotlib.axis_1\">\r\n    <g id=\"xtick_1\">\r\n     <g id=\"line2d_1\">\r\n      <defs>\r\n       <path d=\"M 0 0 \r\nL 0 3.5 \r\n\" id=\"m8fd54ee0a4\" style=\"stroke:#000000;stroke-width:0.8;\"/>\r\n      </defs>\r\n      <g>\r\n       <use style=\"stroke:#000000;stroke-width:0.8;\" x=\"88.600625\" xlink:href=\"#m8fd54ee0a4\" y=\"226.239893\"/>\r\n      </g>\r\n     </g>\r\n     <g id=\"text_1\">\r\n      <!-- 0 -->\r\n      <g transform=\"translate(85.419375 240.838331)scale(0.1 -0.1)\">\r\n       <defs>\r\n        <path d=\"M 31.78125 66.40625 \r\nQ 24.171875 66.40625 20.328125 58.90625 \r\nQ 16.5 51.421875 16.5 36.375 \r\nQ 16.5 21.390625 20.328125 13.890625 \r\nQ 24.171875 6.390625 31.78125 6.390625 \r\nQ 39.453125 6.390625 43.28125 13.890625 \r\nQ 47.125 21.390625 47.125 36.375 \r\nQ 47.125 51.421875 43.28125 58.90625 \r\nQ 39.453125 66.40625 31.78125 66.40625 \r\nz\r\nM 31.78125 74.21875 \r\nQ 44.046875 74.21875 50.515625 64.515625 \r\nQ 56.984375 54.828125 56.984375 36.375 \r\nQ 56.984375 17.96875 50.515625 8.265625 \r\nQ 44.046875 -1.421875 31.78125 -1.421875 \r\nQ 19.53125 -1.421875 13.0625 8.265625 \r\nQ 6.59375 17.96875 6.59375 36.375 \r\nQ 6.59375 54.828125 13.0625 64.515625 \r\nQ 19.53125 74.21875 31.78125 74.21875 \r\nz\r\n\" id=\"DejaVuSans-48\"/>\r\n       </defs>\r\n       <use xlink:href=\"#DejaVuSans-48\"/>\r\n      </g>\r\n     </g>\r\n    </g>\r\n    <g id=\"xtick_2\">\r\n     <g id=\"line2d_2\">\r\n      <g>\r\n       <use style=\"stroke:#000000;stroke-width:0.8;\" x=\"197.320625\" xlink:href=\"#m8fd54ee0a4\" y=\"226.239893\"/>\r\n      </g>\r\n     </g>\r\n     <g id=\"text_2\">\r\n      <!-- 1 -->\r\n      <g transform=\"translate(194.139375 240.838331)scale(0.1 -0.1)\">\r\n       <defs>\r\n        <path d=\"M 12.40625 8.296875 \r\nL 28.515625 8.296875 \r\nL 28.515625 63.921875 \r\nL 10.984375 60.40625 \r\nL 10.984375 69.390625 \r\nL 28.421875 72.90625 \r\nL 38.28125 72.90625 \r\nL 38.28125 8.296875 \r\nL 54.390625 8.296875 \r\nL 54.390625 0 \r\nL 12.40625 0 \r\nz\r\n\" id=\"DejaVuSans-49\"/>\r\n       </defs>\r\n       <use xlink:href=\"#DejaVuSans-49\"/>\r\n      </g>\r\n     </g>\r\n    </g>\r\n    <g id=\"text_3\">\r\n     <!-- Predicted label -->\r\n     <g transform=\"translate(105.808281 254.516456)scale(0.1 -0.1)\">\r\n      <defs>\r\n       <path d=\"M 19.671875 64.796875 \r\nL 19.671875 37.40625 \r\nL 32.078125 37.40625 \r\nQ 38.96875 37.40625 42.71875 40.96875 \r\nQ 46.484375 44.53125 46.484375 51.125 \r\nQ 46.484375 57.671875 42.71875 61.234375 \r\nQ 38.96875 64.796875 32.078125 64.796875 \r\nz\r\nM 9.8125 72.90625 \r\nL 32.078125 72.90625 \r\nQ 44.34375 72.90625 50.609375 67.359375 \r\nQ 56.890625 61.8125 56.890625 51.125 \r\nQ 56.890625 40.328125 50.609375 34.8125 \r\nQ 44.34375 29.296875 32.078125 29.296875 \r\nL 19.671875 29.296875 \r\nL 19.671875 0 \r\nL 9.8125 0 \r\nz\r\n\" id=\"DejaVuSans-80\"/>\r\n       <path d=\"M 41.109375 46.296875 \r\nQ 39.59375 47.171875 37.8125 47.578125 \r\nQ 36.03125 48 33.890625 48 \r\nQ 26.265625 48 22.1875 43.046875 \r\nQ 18.109375 38.09375 18.109375 28.8125 \r\nL 18.109375 0 \r\nL 9.078125 0 \r\nL 9.078125 54.6875 \r\nL 18.109375 54.6875 \r\nL 18.109375 46.1875 \r\nQ 20.953125 51.171875 25.484375 53.578125 \r\nQ 30.03125 56 36.53125 56 \r\nQ 37.453125 56 38.578125 55.875 \r\nQ 39.703125 55.765625 41.0625 55.515625 \r\nz\r\n\" id=\"DejaVuSans-114\"/>\r\n       <path d=\"M 56.203125 29.59375 \r\nL 56.203125 25.203125 \r\nL 14.890625 25.203125 \r\nQ 15.484375 15.921875 20.484375 11.0625 \r\nQ 25.484375 6.203125 34.421875 6.203125 \r\nQ 39.59375 6.203125 44.453125 7.46875 \r\nQ 49.3125 8.734375 54.109375 11.28125 \r\nL 54.109375 2.78125 \r\nQ 49.265625 0.734375 44.1875 -0.34375 \r\nQ 39.109375 -1.421875 33.890625 -1.421875 \r\nQ 20.796875 -1.421875 13.15625 6.1875 \r\nQ 5.515625 13.8125 5.515625 26.8125 \r\nQ 5.515625 40.234375 12.765625 48.109375 \r\nQ 20.015625 56 32.328125 56 \r\nQ 43.359375 56 49.78125 48.890625 \r\nQ 56.203125 41.796875 56.203125 29.59375 \r\nz\r\nM 47.21875 32.234375 \r\nQ 47.125 39.59375 43.09375 43.984375 \r\nQ 39.0625 48.390625 32.421875 48.390625 \r\nQ 24.90625 48.390625 20.390625 44.140625 \r\nQ 15.875 39.890625 15.1875 32.171875 \r\nz\r\n\" id=\"DejaVuSans-101\"/>\r\n       <path d=\"M 45.40625 46.390625 \r\nL 45.40625 75.984375 \r\nL 54.390625 75.984375 \r\nL 54.390625 0 \r\nL 45.40625 0 \r\nL 45.40625 8.203125 \r\nQ 42.578125 3.328125 38.25 0.953125 \r\nQ 33.9375 -1.421875 27.875 -1.421875 \r\nQ 17.96875 -1.421875 11.734375 6.484375 \r\nQ 5.515625 14.40625 5.515625 27.296875 \r\nQ 5.515625 40.1875 11.734375 48.09375 \r\nQ 17.96875 56 27.875 56 \r\nQ 33.9375 56 38.25 53.625 \r\nQ 42.578125 51.265625 45.40625 46.390625 \r\nz\r\nM 14.796875 27.296875 \r\nQ 14.796875 17.390625 18.875 11.75 \r\nQ 22.953125 6.109375 30.078125 6.109375 \r\nQ 37.203125 6.109375 41.296875 11.75 \r\nQ 45.40625 17.390625 45.40625 27.296875 \r\nQ 45.40625 37.203125 41.296875 42.84375 \r\nQ 37.203125 48.484375 30.078125 48.484375 \r\nQ 22.953125 48.484375 18.875 42.84375 \r\nQ 14.796875 37.203125 14.796875 27.296875 \r\nz\r\n\" id=\"DejaVuSans-100\"/>\r\n       <path d=\"M 9.421875 54.6875 \r\nL 18.40625 54.6875 \r\nL 18.40625 0 \r\nL 9.421875 0 \r\nz\r\nM 9.421875 75.984375 \r\nL 18.40625 75.984375 \r\nL 18.40625 64.59375 \r\nL 9.421875 64.59375 \r\nz\r\n\" id=\"DejaVuSans-105\"/>\r\n       <path d=\"M 48.78125 52.59375 \r\nL 48.78125 44.1875 \r\nQ 44.96875 46.296875 41.140625 47.34375 \r\nQ 37.3125 48.390625 33.40625 48.390625 \r\nQ 24.65625 48.390625 19.8125 42.84375 \r\nQ 14.984375 37.3125 14.984375 27.296875 \r\nQ 14.984375 17.28125 19.8125 11.734375 \r\nQ 24.65625 6.203125 33.40625 6.203125 \r\nQ 37.3125 6.203125 41.140625 7.25 \r\nQ 44.96875 8.296875 48.78125 10.40625 \r\nL 48.78125 2.09375 \r\nQ 45.015625 0.34375 40.984375 -0.53125 \r\nQ 36.96875 -1.421875 32.421875 -1.421875 \r\nQ 20.0625 -1.421875 12.78125 6.34375 \r\nQ 5.515625 14.109375 5.515625 27.296875 \r\nQ 5.515625 40.671875 12.859375 48.328125 \r\nQ 20.21875 56 33.015625 56 \r\nQ 37.15625 56 41.109375 55.140625 \r\nQ 45.0625 54.296875 48.78125 52.59375 \r\nz\r\n\" id=\"DejaVuSans-99\"/>\r\n       <path d=\"M 18.3125 70.21875 \r\nL 18.3125 54.6875 \r\nL 36.8125 54.6875 \r\nL 36.8125 47.703125 \r\nL 18.3125 47.703125 \r\nL 18.3125 18.015625 \r\nQ 18.3125 11.328125 20.140625 9.421875 \r\nQ 21.96875 7.515625 27.59375 7.515625 \r\nL 36.8125 7.515625 \r\nL 36.8125 0 \r\nL 27.59375 0 \r\nQ 17.1875 0 13.234375 3.875 \r\nQ 9.28125 7.765625 9.28125 18.015625 \r\nL 9.28125 47.703125 \r\nL 2.6875 47.703125 \r\nL 2.6875 54.6875 \r\nL 9.28125 54.6875 \r\nL 9.28125 70.21875 \r\nz\r\n\" id=\"DejaVuSans-116\"/>\r\n       <path id=\"DejaVuSans-32\"/>\r\n       <path d=\"M 9.421875 75.984375 \r\nL 18.40625 75.984375 \r\nL 18.40625 0 \r\nL 9.421875 0 \r\nz\r\n\" id=\"DejaVuSans-108\"/>\r\n       <path d=\"M 34.28125 27.484375 \r\nQ 23.390625 27.484375 19.1875 25 \r\nQ 14.984375 22.515625 14.984375 16.5 \r\nQ 14.984375 11.71875 18.140625 8.90625 \r\nQ 21.296875 6.109375 26.703125 6.109375 \r\nQ 34.1875 6.109375 38.703125 11.40625 \r\nQ 43.21875 16.703125 43.21875 25.484375 \r\nL 43.21875 27.484375 \r\nz\r\nM 52.203125 31.203125 \r\nL 52.203125 0 \r\nL 43.21875 0 \r\nL 43.21875 8.296875 \r\nQ 40.140625 3.328125 35.546875 0.953125 \r\nQ 30.953125 -1.421875 24.3125 -1.421875 \r\nQ 15.921875 -1.421875 10.953125 3.296875 \r\nQ 6 8.015625 6 15.921875 \r\nQ 6 25.140625 12.171875 29.828125 \r\nQ 18.359375 34.515625 30.609375 34.515625 \r\nL 43.21875 34.515625 \r\nL 43.21875 35.40625 \r\nQ 43.21875 41.609375 39.140625 45 \r\nQ 35.0625 48.390625 27.6875 48.390625 \r\nQ 23 48.390625 18.546875 47.265625 \r\nQ 14.109375 46.140625 10.015625 43.890625 \r\nL 10.015625 52.203125 \r\nQ 14.9375 54.109375 19.578125 55.046875 \r\nQ 24.21875 56 28.609375 56 \r\nQ 40.484375 56 46.34375 49.84375 \r\nQ 52.203125 43.703125 52.203125 31.203125 \r\nz\r\n\" id=\"DejaVuSans-97\"/>\r\n       <path d=\"M 48.6875 27.296875 \r\nQ 48.6875 37.203125 44.609375 42.84375 \r\nQ 40.53125 48.484375 33.40625 48.484375 \r\nQ 26.265625 48.484375 22.1875 42.84375 \r\nQ 18.109375 37.203125 18.109375 27.296875 \r\nQ 18.109375 17.390625 22.1875 11.75 \r\nQ 26.265625 6.109375 33.40625 6.109375 \r\nQ 40.53125 6.109375 44.609375 11.75 \r\nQ 48.6875 17.390625 48.6875 27.296875 \r\nz\r\nM 18.109375 46.390625 \r\nQ 20.953125 51.265625 25.265625 53.625 \r\nQ 29.59375 56 35.59375 56 \r\nQ 45.5625 56 51.78125 48.09375 \r\nQ 58.015625 40.1875 58.015625 27.296875 \r\nQ 58.015625 14.40625 51.78125 6.484375 \r\nQ 45.5625 -1.421875 35.59375 -1.421875 \r\nQ 29.59375 -1.421875 25.265625 0.953125 \r\nQ 20.953125 3.328125 18.109375 8.203125 \r\nL 18.109375 0 \r\nL 9.078125 0 \r\nL 9.078125 75.984375 \r\nL 18.109375 75.984375 \r\nz\r\n\" id=\"DejaVuSans-98\"/>\r\n      </defs>\r\n      <use xlink:href=\"#DejaVuSans-80\"/>\r\n      <use x=\"58.552734\" xlink:href=\"#DejaVuSans-114\"/>\r\n      <use x=\"97.416016\" xlink:href=\"#DejaVuSans-101\"/>\r\n      <use x=\"158.939453\" xlink:href=\"#DejaVuSans-100\"/>\r\n      <use x=\"222.416016\" xlink:href=\"#DejaVuSans-105\"/>\r\n      <use x=\"250.199219\" xlink:href=\"#DejaVuSans-99\"/>\r\n      <use x=\"305.179688\" xlink:href=\"#DejaVuSans-116\"/>\r\n      <use x=\"344.388672\" xlink:href=\"#DejaVuSans-101\"/>\r\n      <use x=\"405.912109\" xlink:href=\"#DejaVuSans-100\"/>\r\n      <use x=\"469.388672\" xlink:href=\"#DejaVuSans-32\"/>\r\n      <use x=\"501.175781\" xlink:href=\"#DejaVuSans-108\"/>\r\n      <use x=\"528.958984\" xlink:href=\"#DejaVuSans-97\"/>\r\n      <use x=\"590.238281\" xlink:href=\"#DejaVuSans-98\"/>\r\n      <use x=\"653.714844\" xlink:href=\"#DejaVuSans-101\"/>\r\n      <use x=\"715.238281\" xlink:href=\"#DejaVuSans-108\"/>\r\n     </g>\r\n    </g>\r\n   </g>\r\n   <g id=\"matplotlib.axis_2\">\r\n    <g id=\"ytick_1\">\r\n     <g id=\"line2d_3\">\r\n      <defs>\r\n       <path d=\"M 0 0 \r\nL -3.5 0 \r\n\" id=\"m348cb32837\" style=\"stroke:#000000;stroke-width:0.8;\"/>\r\n      </defs>\r\n      <g>\r\n       <use style=\"stroke:#000000;stroke-width:0.8;\" x=\"34.240625\" xlink:href=\"#m348cb32837\" y=\"63.159893\"/>\r\n      </g>\r\n     </g>\r\n     <g id=\"text_4\">\r\n      <!-- 0 -->\r\n      <g transform=\"translate(20.878125 66.959112)scale(0.1 -0.1)\">\r\n       <use xlink:href=\"#DejaVuSans-48\"/>\r\n      </g>\r\n     </g>\r\n    </g>\r\n    <g id=\"ytick_2\">\r\n     <g id=\"line2d_4\">\r\n      <g>\r\n       <use style=\"stroke:#000000;stroke-width:0.8;\" x=\"34.240625\" xlink:href=\"#m348cb32837\" y=\"171.879893\"/>\r\n      </g>\r\n     </g>\r\n     <g id=\"text_5\">\r\n      <!-- 1 -->\r\n      <g transform=\"translate(20.878125 175.679112)scale(0.1 -0.1)\">\r\n       <use xlink:href=\"#DejaVuSans-49\"/>\r\n      </g>\r\n     </g>\r\n    </g>\r\n    <g id=\"text_6\">\r\n     <!-- True label -->\r\n     <g transform=\"translate(14.798437 141.819112)rotate(-90)scale(0.1 -0.1)\">\r\n      <defs>\r\n       <path d=\"M -0.296875 72.90625 \r\nL 61.375 72.90625 \r\nL 61.375 64.59375 \r\nL 35.5 64.59375 \r\nL 35.5 0 \r\nL 25.59375 0 \r\nL 25.59375 64.59375 \r\nL -0.296875 64.59375 \r\nz\r\n\" id=\"DejaVuSans-84\"/>\r\n       <path d=\"M 8.5 21.578125 \r\nL 8.5 54.6875 \r\nL 17.484375 54.6875 \r\nL 17.484375 21.921875 \r\nQ 17.484375 14.15625 20.5 10.265625 \r\nQ 23.53125 6.390625 29.59375 6.390625 \r\nQ 36.859375 6.390625 41.078125 11.03125 \r\nQ 45.3125 15.671875 45.3125 23.6875 \r\nL 45.3125 54.6875 \r\nL 54.296875 54.6875 \r\nL 54.296875 0 \r\nL 45.3125 0 \r\nL 45.3125 8.40625 \r\nQ 42.046875 3.421875 37.71875 1 \r\nQ 33.40625 -1.421875 27.6875 -1.421875 \r\nQ 18.265625 -1.421875 13.375 4.4375 \r\nQ 8.5 10.296875 8.5 21.578125 \r\nz\r\nM 31.109375 56 \r\nz\r\n\" id=\"DejaVuSans-117\"/>\r\n      </defs>\r\n      <use xlink:href=\"#DejaVuSans-84\"/>\r\n      <use x=\"46.333984\" xlink:href=\"#DejaVuSans-114\"/>\r\n      <use x=\"87.447266\" xlink:href=\"#DejaVuSans-117\"/>\r\n      <use x=\"150.826172\" xlink:href=\"#DejaVuSans-101\"/>\r\n      <use x=\"212.349609\" xlink:href=\"#DejaVuSans-32\"/>\r\n      <use x=\"244.136719\" xlink:href=\"#DejaVuSans-108\"/>\r\n      <use x=\"271.919922\" xlink:href=\"#DejaVuSans-97\"/>\r\n      <use x=\"333.199219\" xlink:href=\"#DejaVuSans-98\"/>\r\n      <use x=\"396.675781\" xlink:href=\"#DejaVuSans-101\"/>\r\n      <use x=\"458.199219\" xlink:href=\"#DejaVuSans-108\"/>\r\n     </g>\r\n    </g>\r\n   </g>\r\n   <g id=\"patch_3\">\r\n    <path d=\"M 34.240625 226.239893 \r\nL 34.240625 8.799893 \r\n\" style=\"fill:none;stroke:#000000;stroke-linecap:square;stroke-linejoin:miter;stroke-width:0.8;\"/>\r\n   </g>\r\n   <g id=\"patch_4\">\r\n    <path d=\"M 251.680625 226.239893 \r\nL 251.680625 8.799893 \r\n\" style=\"fill:none;stroke:#000000;stroke-linecap:square;stroke-linejoin:miter;stroke-width:0.8;\"/>\r\n   </g>\r\n   <g id=\"patch_5\">\r\n    <path d=\"M 34.240625 226.239893 \r\nL 251.680625 226.239893 \r\n\" style=\"fill:none;stroke:#000000;stroke-linecap:square;stroke-linejoin:miter;stroke-width:0.8;\"/>\r\n   </g>\r\n   <g id=\"patch_6\">\r\n    <path d=\"M 34.240625 8.799893 \r\nL 251.680625 8.799893 \r\n\" style=\"fill:none;stroke:#000000;stroke-linecap:square;stroke-linejoin:miter;stroke-width:0.8;\"/>\r\n   </g>\r\n   <g id=\"text_7\">\r\n    <!-- 4156 -->\r\n    <g style=\"fill:#440154;\" transform=\"translate(75.875625 65.919268)scale(0.1 -0.1)\">\r\n     <defs>\r\n      <path d=\"M 37.796875 64.3125 \r\nL 12.890625 25.390625 \r\nL 37.796875 25.390625 \r\nz\r\nM 35.203125 72.90625 \r\nL 47.609375 72.90625 \r\nL 47.609375 25.390625 \r\nL 58.015625 25.390625 \r\nL 58.015625 17.1875 \r\nL 47.609375 17.1875 \r\nL 47.609375 0 \r\nL 37.796875 0 \r\nL 37.796875 17.1875 \r\nL 4.890625 17.1875 \r\nL 4.890625 26.703125 \r\nz\r\n\" id=\"DejaVuSans-52\"/>\r\n      <path d=\"M 10.796875 72.90625 \r\nL 49.515625 72.90625 \r\nL 49.515625 64.59375 \r\nL 19.828125 64.59375 \r\nL 19.828125 46.734375 \r\nQ 21.96875 47.46875 24.109375 47.828125 \r\nQ 26.265625 48.1875 28.421875 48.1875 \r\nQ 40.625 48.1875 47.75 41.5 \r\nQ 54.890625 34.8125 54.890625 23.390625 \r\nQ 54.890625 11.625 47.5625 5.09375 \r\nQ 40.234375 -1.421875 26.90625 -1.421875 \r\nQ 22.3125 -1.421875 17.546875 -0.640625 \r\nQ 12.796875 0.140625 7.71875 1.703125 \r\nL 7.71875 11.625 \r\nQ 12.109375 9.234375 16.796875 8.0625 \r\nQ 21.484375 6.890625 26.703125 6.890625 \r\nQ 35.15625 6.890625 40.078125 11.328125 \r\nQ 45.015625 15.765625 45.015625 23.390625 \r\nQ 45.015625 31 40.078125 35.4375 \r\nQ 35.15625 39.890625 26.703125 39.890625 \r\nQ 22.75 39.890625 18.8125 39.015625 \r\nQ 14.890625 38.140625 10.796875 36.28125 \r\nz\r\n\" id=\"DejaVuSans-53\"/>\r\n      <path d=\"M 33.015625 40.375 \r\nQ 26.375 40.375 22.484375 35.828125 \r\nQ 18.609375 31.296875 18.609375 23.390625 \r\nQ 18.609375 15.53125 22.484375 10.953125 \r\nQ 26.375 6.390625 33.015625 6.390625 \r\nQ 39.65625 6.390625 43.53125 10.953125 \r\nQ 47.40625 15.53125 47.40625 23.390625 \r\nQ 47.40625 31.296875 43.53125 35.828125 \r\nQ 39.65625 40.375 33.015625 40.375 \r\nz\r\nM 52.59375 71.296875 \r\nL 52.59375 62.3125 \r\nQ 48.875 64.0625 45.09375 64.984375 \r\nQ 41.3125 65.921875 37.59375 65.921875 \r\nQ 27.828125 65.921875 22.671875 59.328125 \r\nQ 17.53125 52.734375 16.796875 39.40625 \r\nQ 19.671875 43.65625 24.015625 45.921875 \r\nQ 28.375 48.1875 33.59375 48.1875 \r\nQ 44.578125 48.1875 50.953125 41.515625 \r\nQ 57.328125 34.859375 57.328125 23.390625 \r\nQ 57.328125 12.15625 50.6875 5.359375 \r\nQ 44.046875 -1.421875 33.015625 -1.421875 \r\nQ 20.359375 -1.421875 13.671875 8.265625 \r\nQ 6.984375 17.96875 6.984375 36.375 \r\nQ 6.984375 53.65625 15.1875 63.9375 \r\nQ 23.390625 74.21875 37.203125 74.21875 \r\nQ 40.921875 74.21875 44.703125 73.484375 \r\nQ 48.484375 72.75 52.59375 71.296875 \r\nz\r\n\" id=\"DejaVuSans-54\"/>\r\n     </defs>\r\n     <use xlink:href=\"#DejaVuSans-52\"/>\r\n     <use x=\"63.623047\" xlink:href=\"#DejaVuSans-49\"/>\r\n     <use x=\"127.246094\" xlink:href=\"#DejaVuSans-53\"/>\r\n     <use x=\"190.869141\" xlink:href=\"#DejaVuSans-54\"/>\r\n    </g>\r\n   </g>\r\n   <g id=\"text_8\">\r\n    <!-- 128 -->\r\n    <g style=\"fill:#fde725;\" transform=\"translate(187.776875 65.919268)scale(0.1 -0.1)\">\r\n     <defs>\r\n      <path d=\"M 19.1875 8.296875 \r\nL 53.609375 8.296875 \r\nL 53.609375 0 \r\nL 7.328125 0 \r\nL 7.328125 8.296875 \r\nQ 12.9375 14.109375 22.625 23.890625 \r\nQ 32.328125 33.6875 34.8125 36.53125 \r\nQ 39.546875 41.84375 41.421875 45.53125 \r\nQ 43.3125 49.21875 43.3125 52.78125 \r\nQ 43.3125 58.59375 39.234375 62.25 \r\nQ 35.15625 65.921875 28.609375 65.921875 \r\nQ 23.96875 65.921875 18.8125 64.3125 \r\nQ 13.671875 62.703125 7.8125 59.421875 \r\nL 7.8125 69.390625 \r\nQ 13.765625 71.78125 18.9375 73 \r\nQ 24.125 74.21875 28.421875 74.21875 \r\nQ 39.75 74.21875 46.484375 68.546875 \r\nQ 53.21875 62.890625 53.21875 53.421875 \r\nQ 53.21875 48.921875 51.53125 44.890625 \r\nQ 49.859375 40.875 45.40625 35.40625 \r\nQ 44.1875 33.984375 37.640625 27.21875 \r\nQ 31.109375 20.453125 19.1875 8.296875 \r\nz\r\n\" id=\"DejaVuSans-50\"/>\r\n      <path d=\"M 31.78125 34.625 \r\nQ 24.75 34.625 20.71875 30.859375 \r\nQ 16.703125 27.09375 16.703125 20.515625 \r\nQ 16.703125 13.921875 20.71875 10.15625 \r\nQ 24.75 6.390625 31.78125 6.390625 \r\nQ 38.8125 6.390625 42.859375 10.171875 \r\nQ 46.921875 13.96875 46.921875 20.515625 \r\nQ 46.921875 27.09375 42.890625 30.859375 \r\nQ 38.875 34.625 31.78125 34.625 \r\nz\r\nM 21.921875 38.8125 \r\nQ 15.578125 40.375 12.03125 44.71875 \r\nQ 8.5 49.078125 8.5 55.328125 \r\nQ 8.5 64.0625 14.71875 69.140625 \r\nQ 20.953125 74.21875 31.78125 74.21875 \r\nQ 42.671875 74.21875 48.875 69.140625 \r\nQ 55.078125 64.0625 55.078125 55.328125 \r\nQ 55.078125 49.078125 51.53125 44.71875 \r\nQ 48 40.375 41.703125 38.8125 \r\nQ 48.828125 37.15625 52.796875 32.3125 \r\nQ 56.78125 27.484375 56.78125 20.515625 \r\nQ 56.78125 9.90625 50.3125 4.234375 \r\nQ 43.84375 -1.421875 31.78125 -1.421875 \r\nQ 19.734375 -1.421875 13.25 4.234375 \r\nQ 6.78125 9.90625 6.78125 20.515625 \r\nQ 6.78125 27.484375 10.78125 32.3125 \r\nQ 14.796875 37.15625 21.921875 38.8125 \r\nz\r\nM 18.3125 54.390625 \r\nQ 18.3125 48.734375 21.84375 45.5625 \r\nQ 25.390625 42.390625 31.78125 42.390625 \r\nQ 38.140625 42.390625 41.71875 45.5625 \r\nQ 45.3125 48.734375 45.3125 54.390625 \r\nQ 45.3125 60.0625 41.71875 63.234375 \r\nQ 38.140625 66.40625 31.78125 66.40625 \r\nQ 25.390625 66.40625 21.84375 63.234375 \r\nQ 18.3125 60.0625 18.3125 54.390625 \r\nz\r\n\" id=\"DejaVuSans-56\"/>\r\n     </defs>\r\n     <use xlink:href=\"#DejaVuSans-49\"/>\r\n     <use x=\"63.623047\" xlink:href=\"#DejaVuSans-50\"/>\r\n     <use x=\"127.246094\" xlink:href=\"#DejaVuSans-56\"/>\r\n    </g>\r\n   </g>\r\n   <g id=\"text_9\">\r\n    <!-- 288 -->\r\n    <g style=\"fill:#fde725;\" transform=\"translate(79.056875 174.639268)scale(0.1 -0.1)\">\r\n     <use xlink:href=\"#DejaVuSans-50\"/>\r\n     <use x=\"63.623047\" xlink:href=\"#DejaVuSans-56\"/>\r\n     <use x=\"127.246094\" xlink:href=\"#DejaVuSans-56\"/>\r\n    </g>\r\n   </g>\r\n   <g id=\"text_10\">\r\n    <!-- 6060 -->\r\n    <g style=\"fill:#440154;\" transform=\"translate(184.595625 174.639268)scale(0.1 -0.1)\">\r\n     <use xlink:href=\"#DejaVuSans-54\"/>\r\n     <use x=\"63.623047\" xlink:href=\"#DejaVuSans-48\"/>\r\n     <use x=\"127.246094\" xlink:href=\"#DejaVuSans-54\"/>\r\n     <use x=\"190.869141\" xlink:href=\"#DejaVuSans-48\"/>\r\n    </g>\r\n   </g>\r\n  </g>\r\n  <g id=\"axes_2\">\r\n   <g id=\"patch_7\">\r\n    <path clip-path=\"url(#p9573e42a5c)\" d=\"M 268.420625 226.239893 \r\nL 268.420625 225.390518 \r\nL 268.420625 9.649268 \r\nL 268.420625 8.799893 \r\nL 279.292625 8.799893 \r\nL 279.292625 9.649268 \r\nL 279.292625 225.390518 \r\nL 279.292625 226.239893 \r\nz\r\n\" style=\"fill:#ffffff;stroke:#ffffff;stroke-linejoin:miter;stroke-width:0.01;\"/>\r\n   </g>\r\n   <image height=\"217\" id=\"image7bc956b942\" transform=\"scale(1 -1)translate(0 -217)\" width=\"11\" x=\"268\" xlink:href=\"data:image/png;base64,\r\niVBORw0KGgoAAAANSUhEUgAAAAsAAADZCAYAAAD2WsoCAAABYUlEQVR4nO3aQW7DMBBDUWkk52Q9Q+9/kLbptkA2egsC4yJZE8QnZ2Q7TuZHfT7H4WfPmqfaseda5+IxC8SCMaYwl2CI86A2qOce1VlAcs6J3238FcfaeK4eAYnZxt0D4/xKkMUQ5yBzynmIMy2/9UwYsTZsgrQbxgziJm0EMXLVUcAupxvE5IwBUxjoHLvI3LKNmPMd2zjX4vPGHSf4/8dNzi3GDRDv0/0iPj/fd9yNNm0Exw3MweoqhdGkDXhESrYxRi4gOM9YQOuZmE0MGNSGYZxTcMBUG6t+OmBUrI0l4hxGE+c1Ydzk3ES87xhQbhPWRn13wCgZih1YYaY2lrWR2jpqY08KmGMWZ+mZnC9pw1Y0thu5oTzmFzjHhlISkJb/koDUM16RyDm1G7T8ts/BgKkb0GPQpUCWn06KBTzWjn3ZgQXnBV8It7zd20t+yCjBuOB9lmKAMzEv+SOQYPwCBCyBaHjgE4oAAAAASUVORK5CYII=\" y=\"-8\"/>\r\n   <g id=\"matplotlib.axis_3\"/>\r\n   <g id=\"matplotlib.axis_4\">\r\n    <g id=\"ytick_3\">\r\n     <g id=\"line2d_5\">\r\n      <defs>\r\n       <path d=\"M 0 0 \r\nL 3.5 0 \r\n\" id=\"m86b0393f03\" style=\"stroke:#000000;stroke-width:0.8;\"/>\r\n      </defs>\r\n      <g>\r\n       <use style=\"stroke:#000000;stroke-width:0.8;\" x=\"279.292625\" xlink:href=\"#m86b0393f03\" y=\"194.27636\"/>\r\n      </g>\r\n     </g>\r\n     <g id=\"text_11\">\r\n      <!-- 1000 -->\r\n      <g transform=\"translate(286.292625 198.075578)scale(0.1 -0.1)\">\r\n       <use xlink:href=\"#DejaVuSans-49\"/>\r\n       <use x=\"63.623047\" xlink:href=\"#DejaVuSans-48\"/>\r\n       <use x=\"127.246094\" xlink:href=\"#DejaVuSans-48\"/>\r\n       <use x=\"190.869141\" xlink:href=\"#DejaVuSans-48\"/>\r\n      </g>\r\n     </g>\r\n    </g>\r\n    <g id=\"ytick_4\">\r\n     <g id=\"line2d_6\">\r\n      <g>\r\n       <use style=\"stroke:#000000;stroke-width:0.8;\" x=\"279.292625\" xlink:href=\"#m86b0393f03\" y=\"157.620931\"/>\r\n      </g>\r\n     </g>\r\n     <g id=\"text_12\">\r\n      <!-- 2000 -->\r\n      <g transform=\"translate(286.292625 161.42015)scale(0.1 -0.1)\">\r\n       <use xlink:href=\"#DejaVuSans-50\"/>\r\n       <use x=\"63.623047\" xlink:href=\"#DejaVuSans-48\"/>\r\n       <use x=\"127.246094\" xlink:href=\"#DejaVuSans-48\"/>\r\n       <use x=\"190.869141\" xlink:href=\"#DejaVuSans-48\"/>\r\n      </g>\r\n     </g>\r\n    </g>\r\n    <g id=\"ytick_5\">\r\n     <g id=\"line2d_7\">\r\n      <g>\r\n       <use style=\"stroke:#000000;stroke-width:0.8;\" x=\"279.292625\" xlink:href=\"#m86b0393f03\" y=\"120.965503\"/>\r\n      </g>\r\n     </g>\r\n     <g id=\"text_13\">\r\n      <!-- 3000 -->\r\n      <g transform=\"translate(286.292625 124.764722)scale(0.1 -0.1)\">\r\n       <defs>\r\n        <path d=\"M 40.578125 39.3125 \r\nQ 47.65625 37.796875 51.625 33 \r\nQ 55.609375 28.21875 55.609375 21.1875 \r\nQ 55.609375 10.40625 48.1875 4.484375 \r\nQ 40.765625 -1.421875 27.09375 -1.421875 \r\nQ 22.515625 -1.421875 17.65625 -0.515625 \r\nQ 12.796875 0.390625 7.625 2.203125 \r\nL 7.625 11.71875 \r\nQ 11.71875 9.328125 16.59375 8.109375 \r\nQ 21.484375 6.890625 26.8125 6.890625 \r\nQ 36.078125 6.890625 40.9375 10.546875 \r\nQ 45.796875 14.203125 45.796875 21.1875 \r\nQ 45.796875 27.640625 41.28125 31.265625 \r\nQ 36.765625 34.90625 28.71875 34.90625 \r\nL 20.21875 34.90625 \r\nL 20.21875 43.015625 \r\nL 29.109375 43.015625 \r\nQ 36.375 43.015625 40.234375 45.921875 \r\nQ 44.09375 48.828125 44.09375 54.296875 \r\nQ 44.09375 59.90625 40.109375 62.90625 \r\nQ 36.140625 65.921875 28.71875 65.921875 \r\nQ 24.65625 65.921875 20.015625 65.03125 \r\nQ 15.375 64.15625 9.8125 62.3125 \r\nL 9.8125 71.09375 \r\nQ 15.4375 72.65625 20.34375 73.4375 \r\nQ 25.25 74.21875 29.59375 74.21875 \r\nQ 40.828125 74.21875 47.359375 69.109375 \r\nQ 53.90625 64.015625 53.90625 55.328125 \r\nQ 53.90625 49.265625 50.4375 45.09375 \r\nQ 46.96875 40.921875 40.578125 39.3125 \r\nz\r\n\" id=\"DejaVuSans-51\"/>\r\n       </defs>\r\n       <use xlink:href=\"#DejaVuSans-51\"/>\r\n       <use x=\"63.623047\" xlink:href=\"#DejaVuSans-48\"/>\r\n       <use x=\"127.246094\" xlink:href=\"#DejaVuSans-48\"/>\r\n       <use x=\"190.869141\" xlink:href=\"#DejaVuSans-48\"/>\r\n      </g>\r\n     </g>\r\n    </g>\r\n    <g id=\"ytick_6\">\r\n     <g id=\"line2d_8\">\r\n      <g>\r\n       <use style=\"stroke:#000000;stroke-width:0.8;\" x=\"279.292625\" xlink:href=\"#m86b0393f03\" y=\"84.310075\"/>\r\n      </g>\r\n     </g>\r\n     <g id=\"text_14\">\r\n      <!-- 4000 -->\r\n      <g transform=\"translate(286.292625 88.109294)scale(0.1 -0.1)\">\r\n       <use xlink:href=\"#DejaVuSans-52\"/>\r\n       <use x=\"63.623047\" xlink:href=\"#DejaVuSans-48\"/>\r\n       <use x=\"127.246094\" xlink:href=\"#DejaVuSans-48\"/>\r\n       <use x=\"190.869141\" xlink:href=\"#DejaVuSans-48\"/>\r\n      </g>\r\n     </g>\r\n    </g>\r\n    <g id=\"ytick_7\">\r\n     <g id=\"line2d_9\">\r\n      <g>\r\n       <use style=\"stroke:#000000;stroke-width:0.8;\" x=\"279.292625\" xlink:href=\"#m86b0393f03\" y=\"47.654647\"/>\r\n      </g>\r\n     </g>\r\n     <g id=\"text_15\">\r\n      <!-- 5000 -->\r\n      <g transform=\"translate(286.292625 51.453866)scale(0.1 -0.1)\">\r\n       <use xlink:href=\"#DejaVuSans-53\"/>\r\n       <use x=\"63.623047\" xlink:href=\"#DejaVuSans-48\"/>\r\n       <use x=\"127.246094\" xlink:href=\"#DejaVuSans-48\"/>\r\n       <use x=\"190.869141\" xlink:href=\"#DejaVuSans-48\"/>\r\n      </g>\r\n     </g>\r\n    </g>\r\n    <g id=\"ytick_8\">\r\n     <g id=\"line2d_10\">\r\n      <g>\r\n       <use style=\"stroke:#000000;stroke-width:0.8;\" x=\"279.292625\" xlink:href=\"#m86b0393f03\" y=\"10.999219\"/>\r\n      </g>\r\n     </g>\r\n     <g id=\"text_16\">\r\n      <!-- 6000 -->\r\n      <g transform=\"translate(286.292625 14.798438)scale(0.1 -0.1)\">\r\n       <use xlink:href=\"#DejaVuSans-54\"/>\r\n       <use x=\"63.623047\" xlink:href=\"#DejaVuSans-48\"/>\r\n       <use x=\"127.246094\" xlink:href=\"#DejaVuSans-48\"/>\r\n       <use x=\"190.869141\" xlink:href=\"#DejaVuSans-48\"/>\r\n      </g>\r\n     </g>\r\n    </g>\r\n   </g>\r\n   <g id=\"patch_8\">\r\n    <path d=\"M 268.420625 226.239893 \r\nL 268.420625 225.390518 \r\nL 268.420625 9.649268 \r\nL 268.420625 8.799893 \r\nL 279.292625 8.799893 \r\nL 279.292625 9.649268 \r\nL 279.292625 225.390518 \r\nL 279.292625 226.239893 \r\nz\r\n\" style=\"fill:none;stroke:#000000;stroke-linejoin:miter;stroke-width:0.8;\"/>\r\n   </g>\r\n  </g>\r\n </g>\r\n <defs>\r\n  <clipPath id=\"p4f51f07cbf\">\r\n   <rect height=\"217.44\" width=\"217.44\" x=\"34.240625\" y=\"8.799893\"/>\r\n  </clipPath>\r\n  <clipPath id=\"p9573e42a5c\">\r\n   <rect height=\"217.44\" width=\"10.872\" x=\"268.420625\" y=\"8.799893\"/>\r\n  </clipPath>\r\n </defs>\r\n</svg>\r\n",
      "image/png": "[encoded data removed]"
     },
     "metadata": {
      "needs_background": "light"
     }
    }
   ],
   "source": [
    "plot_confusion_matrix(uni_tfsvm1, testX1, testY)\n",
    "plt.show()"
   ]
  },
  {
   "cell_type": "code",
   "execution_count": 41,
   "metadata": {},
   "outputs": [
    {
     "output_type": "stream",
     "name": "stdout",
     "text": [
      "              precision    recall  f1-score   support\n\n           0       0.93      0.98      0.95      4284\n           1       0.99      0.95      0.97      6348\n\n    accuracy                           0.96     10632\n   macro avg       0.96      0.96      0.96     10632\nweighted avg       0.96      0.96      0.96     10632\n\n              precision    recall  f1-score   support\n\n           0       0.94      0.97      0.95      4284\n           1       0.98      0.95      0.97      6348\n\n    accuracy                           0.96     10632\n   macro avg       0.96      0.96      0.96     10632\nweighted avg       0.96      0.96      0.96     10632\n\n"
     ]
    }
   ],
   "source": [
    "print(classification_report(y_true = testY, y_pred = title_uni_csvm))\n",
    "print(classification_report(y_true = testY, y_pred = title_uni_tfsvm))"
   ]
  },
  {
   "cell_type": "code",
   "execution_count": 42,
   "metadata": {},
   "outputs": [
    {
     "output_type": "stream",
     "name": "stdout",
     "text": [
      "              precision    recall  f1-score   support\n\n           0       0.61      1.00      0.75      4284\n           1       1.00      0.56      0.72      6348\n\n    accuracy                           0.74     10632\n   macro avg       0.80      0.78      0.74     10632\nweighted avg       0.84      0.74      0.73     10632\n\n              precision    recall  f1-score   support\n\n           0       0.88      0.93      0.90      4284\n           1       0.95      0.91      0.93      6348\n\n    accuracy                           0.92     10632\n   macro avg       0.91      0.92      0.92     10632\nweighted avg       0.92      0.92      0.92     10632\n\n"
     ]
    }
   ],
   "source": [
    "print(classification_report(y_true = testY, y_pred = title_bi_csvm))\n",
    "print(classification_report(y_true = testY, y_pred = title_bi_tfsvm))"
   ]
  },
  {
   "cell_type": "code",
   "execution_count": 43,
   "metadata": {},
   "outputs": [
    {
     "output_type": "stream",
     "name": "stdout",
     "text": [
      "              precision    recall  f1-score   support\n\n           0       0.50      1.00      0.66      4284\n           1       1.00      0.32      0.48      6348\n\n    accuracy                           0.59     10632\n   macro avg       0.75      0.66      0.57     10632\nweighted avg       0.80      0.59      0.56     10632\n\n              precision    recall  f1-score   support\n\n           0       0.70      0.63      0.66      4284\n           1       0.77      0.82      0.79      6348\n\n    accuracy                           0.74     10632\n   macro avg       0.73      0.72      0.73     10632\nweighted avg       0.74      0.74      0.74     10632\n\n"
     ]
    }
   ],
   "source": [
    "print(classification_report(y_true = testY, y_pred = title_tri_csvm))\n",
    "print(classification_report(y_true = testY, y_pred = title_tri_tfsvm))"
   ]
  },
  {
   "cell_type": "code",
   "execution_count": 44,
   "metadata": {},
   "outputs": [
    {
     "output_type": "stream",
     "name": "stdout",
     "text": [
      "              precision    recall  f1-score   support\n\n           0       0.93      0.96      0.94      4284\n           1       0.97      0.95      0.96      6348\n\n    accuracy                           0.95     10632\n   macro avg       0.95      0.95      0.95     10632\nweighted avg       0.95      0.95      0.95     10632\n\n              precision    recall  f1-score   support\n\n           0       0.93      0.96      0.94      4284\n           1       0.97      0.95      0.96      6348\n\n    accuracy                           0.95     10632\n   macro avg       0.95      0.95      0.95     10632\nweighted avg       0.95      0.95      0.95     10632\n\n"
     ]
    }
   ],
   "source": [
    "print(classification_report(y_true = testY, y_pred = title_uni_cnb))\n",
    "print(classification_report(y_true = testY, y_pred = title_uni_tfnb))"
   ]
  },
  {
   "cell_type": "code",
   "execution_count": 45,
   "metadata": {},
   "outputs": [
    {
     "output_type": "stream",
     "name": "stdout",
     "text": [
      "              precision    recall  f1-score   support\n",
      "\n",
      "           0       0.79      0.99      0.88      4284\n",
      "           1       0.99      0.82      0.90      6348\n",
      "\n",
      "    accuracy                           0.89     10632\n",
      "   macro avg       0.89      0.91      0.89     10632\n",
      "weighted avg       0.91      0.89      0.89     10632\n",
      "\n",
      "              precision    recall  f1-score   support\n",
      "\n",
      "           0       0.79      0.99      0.88      4284\n",
      "           1       0.99      0.82      0.90      6348\n",
      "\n",
      "    accuracy                           0.89     10632\n",
      "   macro avg       0.89      0.91      0.89     10632\n",
      "weighted avg       0.91      0.89      0.89     10632\n",
      "\n"
     ]
    }
   ],
   "source": [
    "print(classification_report(y_true = testY, y_pred = title_bi_cnb))\n",
    "print(classification_report(y_true = testY, y_pred = title_bi_tfnb))"
   ]
  },
  {
   "cell_type": "code",
   "execution_count": 46,
   "metadata": {},
   "outputs": [
    {
     "output_type": "stream",
     "name": "stdout",
     "text": [
      "              precision    recall  f1-score   support\n",
      "\n",
      "           0       0.53      1.00      0.69      4284\n",
      "           1       1.00      0.39      0.56      6348\n",
      "\n",
      "    accuracy                           0.64     10632\n",
      "   macro avg       0.76      0.70      0.63     10632\n",
      "weighted avg       0.81      0.64      0.61     10632\n",
      "\n",
      "              precision    recall  f1-score   support\n",
      "\n",
      "           0       0.53      1.00      0.69      4284\n",
      "           1       1.00      0.39      0.56      6348\n",
      "\n",
      "    accuracy                           0.64     10632\n",
      "   macro avg       0.76      0.70      0.63     10632\n",
      "weighted avg       0.81      0.64      0.61     10632\n",
      "\n"
     ]
    }
   ],
   "source": [
    "print(classification_report(y_true = testY, y_pred = title_tri_cnb))\n",
    "print(classification_report(y_true = testY, y_pred = title_tri_tfnb))"
   ]
  },
  {
   "cell_type": "code",
   "execution_count": 47,
   "metadata": {},
   "outputs": [
    {
     "output_type": "stream",
     "name": "stdout",
     "text": [
      "              precision    recall  f1-score   support\n",
      "\n",
      "           0       0.88      0.91      0.90      4284\n",
      "           1       0.94      0.92      0.93      6348\n",
      "\n",
      "    accuracy                           0.92     10632\n",
      "   macro avg       0.91      0.92      0.91     10632\n",
      "weighted avg       0.92      0.92      0.92     10632\n",
      "\n",
      "              precision    recall  f1-score   support\n",
      "\n",
      "           0       0.88      0.92      0.90      4284\n",
      "           1       0.94      0.91      0.93      6348\n",
      "\n",
      "    accuracy                           0.92     10632\n",
      "   macro avg       0.91      0.92      0.91     10632\n",
      "weighted avg       0.92      0.92      0.92     10632\n",
      "\n"
     ]
    }
   ],
   "source": [
    "print(classification_report(y_true = testY, y_pred = title_uni_cdt))\n",
    "print(classification_report(y_true = testY, y_pred = title_uni_tfdt))"
   ]
  },
  {
   "cell_type": "code",
   "execution_count": 48,
   "metadata": {},
   "outputs": [
    {
     "output_type": "stream",
     "name": "stdout",
     "text": [
      "              precision    recall  f1-score   support\n\n           0       0.86      0.74      0.79      4284\n           1       0.84      0.92      0.88      6348\n\n    accuracy                           0.84     10632\n   macro avg       0.85      0.83      0.83     10632\nweighted avg       0.85      0.84      0.84     10632\n\n              precision    recall  f1-score   support\n\n           0       0.76      0.77      0.77      4284\n           1       0.85      0.83      0.84      6348\n\n    accuracy                           0.81     10632\n   macro avg       0.80      0.80      0.80     10632\nweighted avg       0.81      0.81      0.81     10632\n\n"
     ]
    }
   ],
   "source": [
    "print(classification_report(y_true = testY, y_pred = title_bi_cdt))\n",
    "print(classification_report(y_true = testY, y_pred = title_bi_tfdt))"
   ]
  },
  {
   "cell_type": "code",
   "execution_count": 49,
   "metadata": {},
   "outputs": [
    {
     "output_type": "stream",
     "name": "stdout",
     "text": [
      "              precision    recall  f1-score   support\n\n           0       0.87      0.36      0.51      4284\n           1       0.69      0.96      0.80      6348\n\n    accuracy                           0.72     10632\n   macro avg       0.78      0.66      0.66     10632\nweighted avg       0.76      0.72      0.68     10632\n\n              precision    recall  f1-score   support\n\n           0       0.84      0.36      0.50      4284\n           1       0.69      0.95      0.80      6348\n\n    accuracy                           0.71     10632\n   macro avg       0.76      0.65      0.65     10632\nweighted avg       0.75      0.71      0.68     10632\n\n"
     ]
    }
   ],
   "source": [
    "print(classification_report(y_true = testY, y_pred = title_tri_cdt))\n",
    "print(classification_report(y_true = testY, y_pred = title_tri_tfdt))"
   ]
  },
  {
   "cell_type": "code",
   "execution_count": 50,
   "metadata": {},
   "outputs": [
    {
     "output_type": "stream",
     "name": "stdout",
     "text": [
      "              precision    recall  f1-score   support\n",
      "\n",
      "           0       0.99      0.99      0.99      4284\n",
      "           1       1.00      0.99      0.99      6348\n",
      "\n",
      "    accuracy                           0.99     10632\n",
      "   macro avg       0.99      0.99      0.99     10632\n",
      "weighted avg       0.99      0.99      0.99     10632\n",
      "\n",
      "              precision    recall  f1-score   support\n",
      "\n",
      "           0       0.99      0.99      0.99      4284\n",
      "           1       1.00      0.99      0.99      6348\n",
      "\n",
      "    accuracy                           0.99     10632\n",
      "   macro avg       0.99      0.99      0.99     10632\n",
      "weighted avg       0.99      0.99      0.99     10632\n",
      "\n"
     ]
    }
   ],
   "source": [
    "print(classification_report(y_true = testY, y_pred = text_uni_csvm))\n",
    "print(classification_report(y_true = testY, y_pred = text_uni_tfsvm))"
   ]
  },
  {
   "cell_type": "code",
   "execution_count": 51,
   "metadata": {},
   "outputs": [
    {
     "output_type": "stream",
     "name": "stdout",
     "text": [
      "              precision    recall  f1-score   support\n",
      "\n",
      "           0       0.98      0.99      0.98      4284\n",
      "           1       0.99      0.99      0.99      6348\n",
      "\n",
      "    accuracy                           0.99     10632\n",
      "   macro avg       0.99      0.99      0.99     10632\n",
      "weighted avg       0.99      0.99      0.99     10632\n",
      "\n",
      "              precision    recall  f1-score   support\n",
      "\n",
      "           0       0.99      0.99      0.99      4284\n",
      "           1       0.99      0.99      0.99      6348\n",
      "\n",
      "    accuracy                           0.99     10632\n",
      "   macro avg       0.99      0.99      0.99     10632\n",
      "weighted avg       0.99      0.99      0.99     10632\n",
      "\n"
     ]
    }
   ],
   "source": [
    "print(classification_report(y_true = testY, y_pred = text_bi_csvm))\n",
    "print(classification_report(y_true = testY, y_pred = text_bi_tfsvm))"
   ]
  },
  {
   "cell_type": "code",
   "execution_count": 52,
   "metadata": {},
   "outputs": [
    {
     "output_type": "stream",
     "name": "stdout",
     "text": [
      "              precision    recall  f1-score   support\n",
      "\n",
      "           0       0.88      0.96      0.92      4284\n",
      "           1       0.97      0.92      0.94      6348\n",
      "\n",
      "    accuracy                           0.93     10632\n",
      "   macro avg       0.93      0.94      0.93     10632\n",
      "weighted avg       0.94      0.93      0.93     10632\n",
      "\n",
      "              precision    recall  f1-score   support\n",
      "\n",
      "           0       0.88      0.96      0.92      4284\n",
      "           1       0.97      0.92      0.94      6348\n",
      "\n",
      "    accuracy                           0.93     10632\n",
      "   macro avg       0.93      0.94      0.93     10632\n",
      "weighted avg       0.94      0.93      0.93     10632\n",
      "\n"
     ]
    }
   ],
   "source": [
    "print(classification_report(y_true = testY, y_pred = text_uni_cnb))\n",
    "print(classification_report(y_true = testY, y_pred = text_uni_tfnb))"
   ]
  },
  {
   "cell_type": "code",
   "execution_count": 53,
   "metadata": {},
   "outputs": [
    {
     "output_type": "stream",
     "name": "stdout",
     "text": [
      "              precision    recall  f1-score   support\n",
      "\n",
      "           0       0.87      0.98      0.92      4284\n",
      "           1       0.99      0.90      0.94      6348\n",
      "\n",
      "    accuracy                           0.93     10632\n",
      "   macro avg       0.93      0.94      0.93     10632\n",
      "weighted avg       0.94      0.93      0.93     10632\n",
      "\n",
      "              precision    recall  f1-score   support\n",
      "\n",
      "           0       0.87      0.98      0.92      4284\n",
      "           1       0.99      0.90      0.94      6348\n",
      "\n",
      "    accuracy                           0.93     10632\n",
      "   macro avg       0.93      0.94      0.93     10632\n",
      "weighted avg       0.94      0.93      0.93     10632\n",
      "\n"
     ]
    }
   ],
   "source": [
    "print(classification_report(y_true = testY, y_pred = text_bi_cnb))\n",
    "print(classification_report(y_true = testY, y_pred = text_bi_tfnb))"
   ]
  },
  {
   "cell_type": "code",
   "execution_count": 54,
   "metadata": {},
   "outputs": [
    {
     "output_type": "stream",
     "name": "stdout",
     "text": [
      "              precision    recall  f1-score   support\n",
      "\n",
      "           0       1.00      1.00      1.00      4284\n",
      "           1       1.00      1.00      1.00      6348\n",
      "\n",
      "    accuracy                           1.00     10632\n",
      "   macro avg       1.00      1.00      1.00     10632\n",
      "weighted avg       1.00      1.00      1.00     10632\n",
      "\n",
      "              precision    recall  f1-score   support\n",
      "\n",
      "           0       1.00      1.00      1.00      4284\n",
      "           1       1.00      1.00      1.00      6348\n",
      "\n",
      "    accuracy                           1.00     10632\n",
      "   macro avg       1.00      1.00      1.00     10632\n",
      "weighted avg       1.00      1.00      1.00     10632\n",
      "\n"
     ]
    }
   ],
   "source": [
    "print(classification_report(y_true = testY, y_pred = text_uni_cdt))\n",
    "print(classification_report(y_true = testY, y_pred = text_uni_tfdt))"
   ]
  },
  {
   "cell_type": "code",
   "execution_count": 55,
   "metadata": {},
   "outputs": [
    {
     "output_type": "stream",
     "name": "stdout",
     "text": [
      "              precision    recall  f1-score   support\n",
      "\n",
      "           0       0.95      0.96      0.96      4284\n",
      "           1       0.97      0.97      0.97      6348\n",
      "\n",
      "    accuracy                           0.96     10632\n",
      "   macro avg       0.96      0.96      0.96     10632\n",
      "weighted avg       0.96      0.96      0.96     10632\n",
      "\n",
      "              precision    recall  f1-score   support\n",
      "\n",
      "           0       0.94      0.96      0.95      4284\n",
      "           1       0.97      0.96      0.97      6348\n",
      "\n",
      "    accuracy                           0.96     10632\n",
      "   macro avg       0.96      0.96      0.96     10632\n",
      "weighted avg       0.96      0.96      0.96     10632\n",
      "\n"
     ]
    }
   ],
   "source": [
    "print(classification_report(y_true = testY, y_pred = text_bi_cdt))\n",
    "print(classification_report(y_true = testY, y_pred = text_bi_tfdt))"
   ]
  },
  {
   "cell_type": "code",
   "execution_count": 56,
   "metadata": {},
   "outputs": [
    {
     "output_type": "stream",
     "name": "stdout",
     "text": [
      "              precision    recall  f1-score   support\n",
      "\n",
      "           0       1.00      0.00      0.01      4284\n",
      "           1       0.60      1.00      0.75      6348\n",
      "\n",
      "    accuracy                           0.60     10632\n",
      "   macro avg       0.80      0.50      0.38     10632\n",
      "weighted avg       0.76      0.60      0.45     10632\n",
      "\n",
      "              precision    recall  f1-score   support\n",
      "\n",
      "           0       0.97      0.25      0.39      4284\n",
      "           1       0.66      1.00      0.80      6348\n",
      "\n",
      "    accuracy                           0.69     10632\n",
      "   macro avg       0.82      0.62      0.60     10632\n",
      "weighted avg       0.79      0.69      0.63     10632\n",
      "\n"
     ]
    }
   ],
   "source": [
    "print(classification_report(y_true = testY, y_pred = ttitle_uni_csvm))\n",
    "print(classification_report(y_true = testY, y_pred = ttitle_uni_tfsvm))"
   ]
  },
  {
   "cell_type": "code",
   "execution_count": 57,
   "metadata": {},
   "outputs": [
    {
     "output_type": "stream",
     "name": "stdout",
     "text": [
      "              precision    recall  f1-score   support\n",
      "\n",
      "           0       0.00      0.00      0.00      4284\n",
      "           1       0.60      1.00      0.75      6348\n",
      "\n",
      "    accuracy                           0.60     10632\n",
      "   macro avg       0.30      0.50      0.37     10632\n",
      "weighted avg       0.36      0.60      0.45     10632\n",
      "\n",
      "              precision    recall  f1-score   support\n",
      "\n",
      "           0       0.96      0.14      0.24      4284\n",
      "           1       0.63      1.00      0.77      6348\n",
      "\n",
      "    accuracy                           0.65     10632\n",
      "   macro avg       0.80      0.57      0.51     10632\n",
      "weighted avg       0.76      0.65      0.56     10632\n",
      "\n",
      "C:\\Users\\jlee10\\Anaconda3\\lib\\site-packages\\sklearn\\metrics\\_classification.py:1221: UndefinedMetricWarning: Precision and F-score are ill-defined and being set to 0.0 in labels with no predicted samples. Use `zero_division` parameter to control this behavior.\n",
      "  _warn_prf(average, modifier, msg_start, len(result))\n"
     ]
    }
   ],
   "source": [
    "print(classification_report(y_true = testY, y_pred = ttitle_bi_csvm))\n",
    "print(classification_report(y_true = testY, y_pred = ttitle_bi_tfsvm))"
   ]
  },
  {
   "cell_type": "code",
   "execution_count": 58,
   "metadata": {},
   "outputs": [
    {
     "output_type": "stream",
     "name": "stdout",
     "text": [
      "              precision    recall  f1-score   support\n",
      "\n",
      "           0       0.67      0.99      0.80      4284\n",
      "           1       0.99      0.67      0.80      6348\n",
      "\n",
      "    accuracy                           0.80     10632\n",
      "   macro avg       0.83      0.83      0.80     10632\n",
      "weighted avg       0.86      0.80      0.80     10632\n",
      "\n",
      "              precision    recall  f1-score   support\n",
      "\n",
      "           0       0.67      0.99      0.80      4284\n",
      "           1       0.99      0.67      0.80      6348\n",
      "\n",
      "    accuracy                           0.80     10632\n",
      "   macro avg       0.83      0.83      0.80     10632\n",
      "weighted avg       0.86      0.80      0.80     10632\n",
      "\n"
     ]
    }
   ],
   "source": [
    "print(classification_report(y_true = testY, y_pred = ttitle_uni_cnb))\n",
    "print(classification_report(y_true = testY, y_pred = ttitle_uni_tfnb))"
   ]
  },
  {
   "cell_type": "code",
   "execution_count": 59,
   "metadata": {},
   "outputs": [
    {
     "output_type": "stream",
     "name": "stdout",
     "text": [
      "              precision    recall  f1-score   support\n",
      "\n",
      "           0       0.40      1.00      0.58      4284\n",
      "           1       1.00      0.00      0.01      6348\n",
      "\n",
      "    accuracy                           0.40     10632\n",
      "   macro avg       0.70      0.50      0.29     10632\n",
      "weighted avg       0.76      0.40      0.24     10632\n",
      "\n",
      "              precision    recall  f1-score   support\n",
      "\n",
      "           0       0.40      1.00      0.58      4284\n",
      "           1       1.00      0.00      0.01      6348\n",
      "\n",
      "    accuracy                           0.40     10632\n",
      "   macro avg       0.70      0.50      0.29     10632\n",
      "weighted avg       0.76      0.40      0.24     10632\n",
      "\n"
     ]
    }
   ],
   "source": [
    "print(classification_report(y_true = testY, y_pred = ttitle_bi_cnb))\n",
    "print(classification_report(y_true = testY, y_pred = ttitle_bi_tfnb))"
   ]
  },
  {
   "cell_type": "code",
   "execution_count": 60,
   "metadata": {},
   "outputs": [
    {
     "output_type": "stream",
     "name": "stdout",
     "text": [
      "              precision    recall  f1-score   support\n",
      "\n",
      "           0       0.96      0.01      0.01      4284\n",
      "           1       0.60      1.00      0.75      6348\n",
      "\n",
      "    accuracy                           0.60     10632\n",
      "   macro avg       0.78      0.50      0.38     10632\n",
      "weighted avg       0.75      0.60      0.45     10632\n",
      "\n",
      "              precision    recall  f1-score   support\n",
      "\n",
      "           0       0.95      0.02      0.04      4284\n",
      "           1       0.60      1.00      0.75      6348\n",
      "\n",
      "    accuracy                           0.60     10632\n",
      "   macro avg       0.78      0.51      0.39     10632\n",
      "weighted avg       0.74      0.60      0.46     10632\n",
      "\n"
     ]
    }
   ],
   "source": [
    "print(classification_report(y_true = testY, y_pred = ttitle_uni_cdt))\n",
    "print(classification_report(y_true = testY, y_pred = ttitle_uni_tfdt))"
   ]
  },
  {
   "cell_type": "code",
   "execution_count": 61,
   "metadata": {},
   "outputs": [
    {
     "output_type": "stream",
     "name": "stdout",
     "text": [
      "              precision    recall  f1-score   support\n",
      "\n",
      "           0       0.82      0.01      0.03      4284\n",
      "           1       0.60      1.00      0.75      6348\n",
      "\n",
      "    accuracy                           0.60     10632\n",
      "   macro avg       0.71      0.51      0.39     10632\n",
      "weighted avg       0.69      0.60      0.46     10632\n",
      "\n",
      "              precision    recall  f1-score   support\n",
      "\n",
      "           0       0.77      0.02      0.04      4284\n",
      "           1       0.60      1.00      0.75      6348\n",
      "\n",
      "    accuracy                           0.60     10632\n",
      "   macro avg       0.68      0.51      0.39     10632\n",
      "weighted avg       0.67      0.60      0.46     10632\n",
      "\n"
     ]
    }
   ],
   "source": [
    "print(classification_report(y_true = testY, y_pred = ttitle_bi_cdt))\n",
    "print(classification_report(y_true = testY, y_pred = ttitle_bi_tfdt))"
   ]
  },
  {
   "cell_type": "code",
   "execution_count": 62,
   "metadata": {},
   "outputs": [
    {
     "output_type": "stream",
     "name": "stdout",
     "text": [
      "              precision    recall  f1-score   support\n",
      "\n",
      "           0       0.00      0.00      0.00      4284\n",
      "           1       0.59      0.96      0.73      6348\n",
      "\n",
      "    accuracy                           0.58     10632\n",
      "   macro avg       0.29      0.48      0.37     10632\n",
      "weighted avg       0.35      0.58      0.44     10632\n",
      "\n",
      "              precision    recall  f1-score   support\n",
      "\n",
      "           0       0.94      0.05      0.09      4284\n",
      "           1       0.61      1.00      0.76      6348\n",
      "\n",
      "    accuracy                           0.61     10632\n",
      "   macro avg       0.78      0.52      0.42     10632\n",
      "weighted avg       0.74      0.61      0.49     10632\n",
      "\n"
     ]
    }
   ],
   "source": [
    "print(classification_report(y_true = testY, y_pred = ttext_uni_csvm))\n",
    "print(classification_report(y_true = testY, y_pred = ttext_uni_tfsvm))"
   ]
  },
  {
   "cell_type": "code",
   "execution_count": 63,
   "metadata": {},
   "outputs": [
    {
     "output_type": "stream",
     "name": "stdout",
     "text": [
      "              precision    recall  f1-score   support\n",
      "\n",
      "           0       0.02      0.00      0.00      4284\n",
      "           1       0.59      0.95      0.72      6348\n",
      "\n",
      "    accuracy                           0.57     10632\n",
      "   macro avg       0.30      0.48      0.36     10632\n",
      "weighted avg       0.36      0.57      0.43     10632\n",
      "\n",
      "              precision    recall  f1-score   support\n",
      "\n",
      "           0       0.96      0.15      0.25      4284\n",
      "           1       0.63      1.00      0.77      6348\n",
      "\n",
      "    accuracy                           0.65     10632\n",
      "   macro avg       0.80      0.57      0.51     10632\n",
      "weighted avg       0.76      0.65      0.56     10632\n",
      "\n"
     ]
    }
   ],
   "source": [
    "print(classification_report(y_true = testY, y_pred = ttext_bi_csvm))\n",
    "print(classification_report(y_true = testY, y_pred = ttext_bi_tfsvm))"
   ]
  },
  {
   "cell_type": "code",
   "execution_count": 64,
   "metadata": {},
   "outputs": [
    {
     "output_type": "stream",
     "name": "stdout",
     "text": [
      "              precision    recall  f1-score   support\n",
      "\n",
      "           0       0.83      0.26      0.40      4284\n",
      "           1       0.66      0.96      0.78      6348\n",
      "\n",
      "    accuracy                           0.68     10632\n",
      "   macro avg       0.75      0.61      0.59     10632\n",
      "weighted avg       0.73      0.68      0.63     10632\n",
      "\n",
      "              precision    recall  f1-score   support\n",
      "\n",
      "           0       0.83      0.26      0.40      4284\n",
      "           1       0.66      0.96      0.78      6348\n",
      "\n",
      "    accuracy                           0.68     10632\n",
      "   macro avg       0.75      0.61      0.59     10632\n",
      "weighted avg       0.73      0.68      0.63     10632\n",
      "\n"
     ]
    }
   ],
   "source": [
    "print(classification_report(y_true = testY, y_pred = ttext_uni_cnb))\n",
    "print(classification_report(y_true = testY, y_pred = ttext_uni_tfnb))"
   ]
  },
  {
   "cell_type": "code",
   "execution_count": 65,
   "metadata": {},
   "outputs": [
    {
     "output_type": "stream",
     "name": "stdout",
     "text": [
      "              precision    recall  f1-score   support\n",
      "\n",
      "           0       0.76      0.19      0.31      4284\n",
      "           1       0.64      0.96      0.77      6348\n",
      "\n",
      "    accuracy                           0.65     10632\n",
      "   macro avg       0.70      0.58      0.54     10632\n",
      "weighted avg       0.69      0.65      0.58     10632\n",
      "\n",
      "              precision    recall  f1-score   support\n",
      "\n",
      "           0       0.76      0.19      0.31      4284\n",
      "           1       0.64      0.96      0.77      6348\n",
      "\n",
      "    accuracy                           0.65     10632\n",
      "   macro avg       0.70      0.58      0.54     10632\n",
      "weighted avg       0.69      0.65      0.58     10632\n",
      "\n"
     ]
    }
   ],
   "source": [
    "print(classification_report(y_true = testY, y_pred = ttext_bi_cnb))\n",
    "print(classification_report(y_true = testY, y_pred = ttext_bi_tfnb))"
   ]
  },
  {
   "cell_type": "code",
   "execution_count": 66,
   "metadata": {},
   "outputs": [
    {
     "output_type": "stream",
     "name": "stdout",
     "text": [
      "              precision    recall  f1-score   support\n",
      "\n",
      "           0       0.50      0.75      0.60      4284\n",
      "           1       0.75      0.50      0.60      6348\n",
      "\n",
      "    accuracy                           0.60     10632\n",
      "   macro avg       0.62      0.62      0.60     10632\n",
      "weighted avg       0.65      0.60      0.60     10632\n",
      "\n",
      "              precision    recall  f1-score   support\n",
      "\n",
      "           0       0.49      0.30      0.37      4284\n",
      "           1       0.63      0.79      0.70      6348\n",
      "\n",
      "    accuracy                           0.59     10632\n",
      "   macro avg       0.56      0.54      0.53     10632\n",
      "weighted avg       0.57      0.59      0.57     10632\n",
      "\n"
     ]
    }
   ],
   "source": [
    "print(classification_report(y_true = testY, y_pred = ttext_uni_cdt))\n",
    "print(classification_report(y_true = testY, y_pred = ttext_uni_tfdt))"
   ]
  },
  {
   "cell_type": "code",
   "execution_count": 67,
   "metadata": {},
   "outputs": [
    {
     "output_type": "stream",
     "name": "stdout",
     "text": [
      "              precision    recall  f1-score   support\n",
      "\n",
      "           0       0.59      0.25      0.35      4284\n",
      "           1       0.64      0.88      0.74      6348\n",
      "\n",
      "    accuracy                           0.63     10632\n",
      "   macro avg       0.62      0.57      0.55     10632\n",
      "weighted avg       0.62      0.63      0.58     10632\n",
      "\n",
      "              precision    recall  f1-score   support\n",
      "\n",
      "           0       0.66      0.08      0.15      4284\n",
      "           1       0.61      0.97      0.75      6348\n",
      "\n",
      "    accuracy                           0.61     10632\n",
      "   macro avg       0.63      0.53      0.45     10632\n",
      "weighted avg       0.63      0.61      0.51     10632\n",
      "\n"
     ]
    }
   ],
   "source": [
    "print(classification_report(y_true = testY, y_pred = ttext_bi_cdt))\n",
    "print(classification_report(y_true = testY, y_pred = ttext_bi_tfdt))"
   ]
  },
  {
   "cell_type": "code",
   "execution_count": 68,
   "metadata": {},
   "outputs": [],
   "source": [
    "text_tri_csvm = tri_csvm2.predict(testX2)\n",
    "text_tri_tfsvm = tri_tfsvm2.predict(testX2)\n",
    "\n",
    "text_tri_cnb = tri_cnb2.predict(testX2)\n",
    "text_tri_tfnb = tri_tfnb2.predict(testX2)\n",
    "\n",
    "text_tri_cdt = tri_cdt2.predict(testX2)\n",
    "text_tri_tfdt = tri_tfdt2.predict(testX2)\n",
    "\n",
    "ttitle_tri_csvm = tri_csvm2.predict(testX1)\n",
    "ttitle_tri_tfsvm = tri_tfsvm2.predict(testX1)\n",
    "\n",
    "ttitle_tri_cnb = tri_cnb2.predict(testX1)\n",
    "ttitle_tri_tfnb = tri_tfnb2.predict(testX1)\n",
    "\n",
    "ttitle_tri_csdt = tri_cdt2.predict(testX1)\n",
    "ttitle_tri_tfdt = tri_tfdt2.predict(testX1)\n",
    "\n",
    "ttext_tri_csvm = tri_csvm1.predict(testX2)\n",
    "ttext_tri_tfsvm = tri_tfsvm1.predict(testX2)\n",
    "\n",
    "ttext_tri_cnb = tri_cnb1.predict(testX2)\n",
    "ttext_tri_tfnb = tri_tfnb1.predict(testX2)\n",
    "\n",
    "ttext_tri_cdt = tri_cdt1.predict(testX2)\n",
    "ttext_tri_tfdt = tri_tfdt1.predict(testX2)"
   ]
  },
  {
   "cell_type": "code",
   "execution_count": 69,
   "metadata": {},
   "outputs": [
    {
     "output_type": "stream",
     "name": "stdout",
     "text": [
      "              precision    recall  f1-score   support\n\n           0       0.97      0.96      0.96      4284\n           1       0.97      0.98      0.98      6348\n\n    accuracy                           0.97     10632\n   macro avg       0.97      0.97      0.97     10632\nweighted avg       0.97      0.97      0.97     10632\n\n              precision    recall  f1-score   support\n\n           0       0.97      0.99      0.98      4284\n           1       0.99      0.98      0.99      6348\n\n    accuracy                           0.98     10632\n   macro avg       0.98      0.98      0.98     10632\nweighted avg       0.98      0.98      0.98     10632\n\n"
     ]
    }
   ],
   "source": [
    "print(classification_report(y_true = testY, y_pred = text_tri_csvm))\n",
    "print(classification_report(y_true = testY, y_pred = text_tri_tfsvm))"
   ]
  },
  {
   "cell_type": "code",
   "execution_count": 70,
   "metadata": {},
   "outputs": [
    {
     "output_type": "stream",
     "name": "stdout",
     "text": [
      "              precision    recall  f1-score   support\n\n           0       0.82      1.00      0.90      4284\n           1       1.00      0.85      0.92      6348\n\n    accuracy                           0.91     10632\n   macro avg       0.91      0.92      0.91     10632\nweighted avg       0.93      0.91      0.91     10632\n\n              precision    recall  f1-score   support\n\n           0       0.82      1.00      0.90      4284\n           1       1.00      0.85      0.92      6348\n\n    accuracy                           0.91     10632\n   macro avg       0.91      0.92      0.91     10632\nweighted avg       0.93      0.91      0.91     10632\n\n"
     ]
    }
   ],
   "source": [
    "print(classification_report(y_true = testY, y_pred = text_tri_cnb))\n",
    "print(classification_report(y_true = testY, y_pred = text_tri_tfnb))"
   ]
  },
  {
   "cell_type": "code",
   "execution_count": 71,
   "metadata": {},
   "outputs": [
    {
     "output_type": "stream",
     "name": "stdout",
     "text": [
      "              precision    recall  f1-score   support\n\n           0       0.93      0.94      0.94      4284\n           1       0.96      0.95      0.96      6348\n\n    accuracy                           0.95     10632\n   macro avg       0.95      0.95      0.95     10632\nweighted avg       0.95      0.95      0.95     10632\n\n              precision    recall  f1-score   support\n\n           0       0.91      0.94      0.92      4284\n           1       0.96      0.94      0.95      6348\n\n    accuracy                           0.94     10632\n   macro avg       0.93      0.94      0.94     10632\nweighted avg       0.94      0.94      0.94     10632\n\n"
     ]
    }
   ],
   "source": [
    "print(classification_report(y_true = testY, y_pred = text_tri_cdt))\n",
    "print(classification_report(y_true = testY, y_pred = text_tri_tfdt))"
   ]
  },
  {
   "cell_type": "code",
   "execution_count": 72,
   "metadata": {},
   "outputs": [
    {
     "output_type": "stream",
     "name": "stdout",
     "text": [
      "              precision    recall  f1-score   support\n\n           0       0.00      0.00      0.00      4284\n           1       0.60      1.00      0.75      6348\n\n    accuracy                           0.60     10632\n   macro avg       0.30      0.50      0.37     10632\nweighted avg       0.36      0.60      0.45     10632\n\n              precision    recall  f1-score   support\n\n           0       0.82      0.15      0.26      4284\n           1       0.63      0.98      0.77      6348\n\n    accuracy                           0.64     10632\n   macro avg       0.73      0.56      0.51     10632\nweighted avg       0.71      0.64      0.56     10632\n\n"
     ]
    }
   ],
   "source": [
    "print(classification_report(y_true = testY, y_pred = ttitle_tri_csvm))\n",
    "print(classification_report(y_true = testY, y_pred = ttitle_tri_tfsvm))"
   ]
  },
  {
   "cell_type": "code",
   "execution_count": 73,
   "metadata": {},
   "outputs": [
    {
     "output_type": "stream",
     "name": "stdout",
     "text": [
      "              precision    recall  f1-score   support\n\n           0       0.40      1.00      0.57      4284\n           1       1.00      0.00      0.00      6348\n\n    accuracy                           0.40     10632\n   macro avg       0.70      0.50      0.29     10632\nweighted avg       0.76      0.40      0.23     10632\n\n              precision    recall  f1-score   support\n\n           0       0.40      1.00      0.57      4284\n           1       1.00      0.00      0.00      6348\n\n    accuracy                           0.40     10632\n   macro avg       0.70      0.50      0.29     10632\nweighted avg       0.76      0.40      0.23     10632\n\n"
     ]
    }
   ],
   "source": [
    "print(classification_report(y_true = testY, y_pred = ttitle_tri_cnb))\n",
    "print(classification_report(y_true = testY, y_pred = ttitle_tri_tfnb))"
   ]
  },
  {
   "cell_type": "code",
   "execution_count": 75,
   "metadata": {},
   "outputs": [
    {
     "output_type": "stream",
     "name": "stdout",
     "text": [
      "              precision    recall  f1-score   support\n\n           0       0.74      0.01      0.01      4284\n           1       0.60      1.00      0.75      6348\n\n    accuracy                           0.60     10632\n   macro avg       0.67      0.50      0.38     10632\nweighted avg       0.65      0.60      0.45     10632\n\n              precision    recall  f1-score   support\n\n           0       0.61      0.01      0.02      4284\n           1       0.60      1.00      0.75      6348\n\n    accuracy                           0.60     10632\n   macro avg       0.60      0.50      0.38     10632\nweighted avg       0.60      0.60      0.45     10632\n\n"
     ]
    }
   ],
   "source": [
    "print(classification_report(y_true = testY, y_pred = ttitle_tri_csdt))\n",
    "print(classification_report(y_true = testY, y_pred = ttitle_tri_tfdt))"
   ]
  },
  {
   "cell_type": "code",
   "execution_count": 76,
   "metadata": {},
   "outputs": [
    {
     "output_type": "stream",
     "name": "stdout",
     "text": [
      "              precision    recall  f1-score   support\n\n           0       0.49      0.18      0.26      4284\n           1       0.61      0.87      0.72      6348\n\n    accuracy                           0.59     10632\n   macro avg       0.55      0.53      0.49     10632\nweighted avg       0.56      0.59      0.54     10632\n\n              precision    recall  f1-score   support\n\n           0       0.87      0.49      0.63      4284\n           1       0.74      0.95      0.83      6348\n\n    accuracy                           0.77     10632\n   macro avg       0.80      0.72      0.73     10632\nweighted avg       0.79      0.77      0.75     10632\n\n"
     ]
    }
   ],
   "source": [
    "print(classification_report(y_true = testY, y_pred = ttext_tri_csvm))\n",
    "print(classification_report(y_true = testY, y_pred = ttext_tri_tfsvm))"
   ]
  },
  {
   "cell_type": "code",
   "execution_count": 77,
   "metadata": {},
   "outputs": [
    {
     "output_type": "stream",
     "name": "stdout",
     "text": [
      "              precision    recall  f1-score   support\n\n           0       0.75      0.52      0.61      4284\n           1       0.73      0.88      0.80      6348\n\n    accuracy                           0.74     10632\n   macro avg       0.74      0.70      0.71     10632\nweighted avg       0.74      0.74      0.72     10632\n\n              precision    recall  f1-score   support\n\n           0       0.75      0.52      0.61      4284\n           1       0.73      0.88      0.80      6348\n\n    accuracy                           0.74     10632\n   macro avg       0.74      0.70      0.71     10632\nweighted avg       0.74      0.74      0.72     10632\n\n"
     ]
    }
   ],
   "source": [
    "print(classification_report(y_true = testY, y_pred = ttext_tri_cnb))\n",
    "print(classification_report(y_true = testY, y_pred = ttext_tri_tfnb))"
   ]
  },
  {
   "cell_type": "code",
   "execution_count": 78,
   "metadata": {},
   "outputs": [
    {
     "output_type": "stream",
     "name": "stdout",
     "text": [
      "              precision    recall  f1-score   support\n\n           0       0.78      0.23      0.35      4284\n           1       0.65      0.96      0.77      6348\n\n    accuracy                           0.66     10632\n   macro avg       0.72      0.59      0.56     10632\nweighted avg       0.70      0.66      0.60     10632\n\n              precision    recall  f1-score   support\n\n           0       0.75      0.22      0.34      4284\n           1       0.64      0.95      0.77      6348\n\n    accuracy                           0.66     10632\n   macro avg       0.69      0.58      0.55     10632\nweighted avg       0.68      0.66      0.59     10632\n\n"
     ]
    }
   ],
   "source": [
    "print(classification_report(y_true = testY, y_pred = ttext_tri_cdt))\n",
    "print(classification_report(y_true = testY, y_pred = ttext_tri_tfdt))"
   ]
  },
  {
   "cell_type": "code",
   "execution_count": 82,
   "metadata": {},
   "outputs": [
    {
     "output_type": "execute_result",
     "data": {
      "text/plain": [
       "Pipeline(steps=[('vectorizer', TfidfVectorizer(ngram_range=(3, 3))),\n",
       "                ('dum', DummyClassifier(strategy='uniform'))])"
      ]
     },
     "metadata": {},
     "execution_count": 82
    }
   ],
   "source": [
    "from sklearn.dummy import DummyClassifier as DUM\n",
    "uni_cdum1 = Pipeline([('vectorizer', CountVectorizer(ngram_range=(1, 1))), ('dum', DUM(strategy = 'uniform'))])\n",
    "bi_cdum1 = Pipeline([('vectorizer', CountVectorizer(ngram_range=(2, 2))), ('dum', DUM(strategy = 'uniform'))])\n",
    "tri_cdum1 = Pipeline([('vectorizer', CountVectorizer(ngram_range=(3, 3))), ('dum', DUM(strategy = 'uniform'))])\n",
    "\n",
    "uni_tfdum1 = Pipeline([('vectorizer', TfidfVectorizer(ngram_range=(1, 1))), ('dum', DUM(strategy = 'uniform'))])\n",
    "bi_tfdum1 = Pipeline([('vectorizer', TfidfVectorizer(ngram_range=(2, 2))), ('dum', DUM(strategy = 'uniform'))])\n",
    "tri_tfdum1 = Pipeline([('vectorizer', TfidfVectorizer(ngram_range=(3, 3))), ('dum', DUM(strategy = 'uniform'))])\n",
    "\n",
    "\n",
    "uni_cdum1.fit(trainX1, trainY)\n",
    "bi_cdum1.fit(trainX1, trainY)\n",
    "tri_cdum1.fit(trainX1, trainY)\n",
    "\n",
    "uni_tfdum1.fit(trainX1, trainY)\n",
    "bi_tfdum1.fit(trainX1, trainY)\n",
    "tri_tfdum1.fit(trainX1, trainY)"
   ]
  },
  {
   "cell_type": "code",
   "execution_count": 83,
   "metadata": {},
   "outputs": [
    {
     "output_type": "execute_result",
     "data": {
      "text/plain": [
       "Pipeline(steps=[('vectorizer', TfidfVectorizer(ngram_range=(3, 3))),\n",
       "                ('dum', DummyClassifier(strategy='uniform'))])"
      ]
     },
     "metadata": {},
     "execution_count": 83
    }
   ],
   "source": [
    "uni_cdum2 = Pipeline([('vectorizer', CountVectorizer(ngram_range=(1, 1))), ('dum', DUM(strategy = 'uniform'))])\n",
    "bi_cdum2 = Pipeline([('vectorizer', CountVectorizer(ngram_range=(2, 2))), ('dum', DUM(strategy = 'uniform'))])\n",
    "tri_cdum2 = Pipeline([('vectorizer', CountVectorizer(ngram_range=(3, 3))), ('dum', DUM(strategy = 'uniform'))])\n",
    "\n",
    "uni_tfdum2 = Pipeline([('vectorizer', TfidfVectorizer(ngram_range=(1, 1))), ('dum', DUM(strategy = 'uniform'))])\n",
    "bi_tfdum2 = Pipeline([('vectorizer', TfidfVectorizer(ngram_range=(2, 2))), ('dum', DUM(strategy = 'uniform'))])\n",
    "tri_tfdum2 = Pipeline([('vectorizer', TfidfVectorizer(ngram_range=(3, 3))), ('dum', DUM(strategy = 'uniform'))])\n",
    "\n",
    "\n",
    "uni_cdum2.fit(trainX2, trainY)\n",
    "bi_cdum2.fit(trainX2, trainY)\n",
    "tri_cdum2.fit(trainX2, trainY)\n",
    "\n",
    "uni_tfdum2.fit(trainX2, trainY)\n",
    "bi_tfdum2.fit(trainX2, trainY)\n",
    "tri_tfdum2.fit(trainX2, trainY)"
   ]
  },
  {
   "cell_type": "code",
   "execution_count": 84,
   "metadata": {},
   "outputs": [],
   "source": [
    "# title to title\n",
    "## dum\n",
    "title_uni_cdum = uni_cdum1.predict(testX1)\n",
    "title_bi_cdum = bi_cdum1.predict(testX1)\n",
    "title_tri_cdum = tri_cdum1.predict(testX1)\n",
    "\n",
    "title_uni_tfdum = uni_tfdum1.predict(testX1)\n",
    "title_bi_tfdum = bi_tfdum1.predict(testX1)\n",
    "title_tri_tfdum = tri_tfdum1.predict(testX1)\n",
    "\n",
    "# text to text\n",
    "## dum\n",
    "text_uni_cdum = uni_cdum2.predict(testX2)\n",
    "text_bi_cdum = bi_cdum2.predict(testX2)\n",
    "text_tri_cdum = tri_cdum2.predict(testX2)\n",
    "\n",
    "text_uni_tfdum = uni_tfdum2.predict(testX2)\n",
    "text_bi_tfdum = bi_tfdum2.predict(testX2)\n",
    "text_tri_tfdum = tri_tfdum2.predict(testX2)\n",
    "\n",
    "# text to title\n",
    "## dum\n",
    "ttitle_uni_cdum = uni_cdum2.predict(testX1)\n",
    "ttitle_bi_cdum = bi_cdum2.predict(testX1)\n",
    "ttitle_tri_cdum = tri_cdum2.predict(testX1)\n",
    "\n",
    "ttitle_uni_tfdum = uni_tfdum2.predict(testX1)\n",
    "ttitle_bi_tfdum = bi_tfdum2.predict(testX1)\n",
    "ttitle_tri_tfdum = tri_tfdum2.predict(testX1)\n",
    "\n",
    "# title to text\n",
    "## dum\n",
    "ttext_uni_cdum = uni_cdum1.predict(testX2)\n",
    "ttext_bi_cdum = bi_cdum1.predict(testX2)\n",
    "ttext_tri_cdum = tri_cdum1.predict(testX2)\n",
    "\n",
    "ttext_uni_tfdum = uni_tfdum1.predict(testX2)\n",
    "ttext_bi_tfdum = bi_tfdum1.predict(testX2)\n",
    "ttext_tri_tfdum = tri_tfdum1.predict(testX2)"
   ]
  },
  {
   "cell_type": "code",
   "execution_count": 85,
   "metadata": {},
   "outputs": [
    {
     "output_type": "stream",
     "name": "stdout",
     "text": [
      "              precision    recall  f1-score   support\n\n           0       0.40      0.50      0.44      4284\n           1       0.60      0.50      0.55      6348\n\n    accuracy                           0.50     10632\n   macro avg       0.50      0.50      0.49     10632\nweighted avg       0.52      0.50      0.50     10632\n\n              precision    recall  f1-score   support\n\n           0       0.40      0.50      0.44      4284\n           1       0.60      0.50      0.55      6348\n\n    accuracy                           0.50     10632\n   macro avg       0.50      0.50      0.50     10632\nweighted avg       0.52      0.50      0.50     10632\n\n"
     ]
    }
   ],
   "source": [
    "print(classification_report(y_true = testY, y_pred = title_uni_cdum))\n",
    "print(classification_report(y_true = testY, y_pred = title_uni_tfdum))"
   ]
  },
  {
   "cell_type": "code",
   "execution_count": 86,
   "metadata": {},
   "outputs": [
    {
     "output_type": "stream",
     "name": "stdout",
     "text": [
      "              precision    recall  f1-score   support\n\n           0       0.40      0.50      0.45      4284\n           1       0.60      0.50      0.55      6348\n\n    accuracy                           0.50     10632\n   macro avg       0.50      0.50      0.50     10632\nweighted avg       0.52      0.50      0.51     10632\n\n              precision    recall  f1-score   support\n\n           0       0.40      0.50      0.45      4284\n           1       0.60      0.50      0.54      6348\n\n    accuracy                           0.50     10632\n   macro avg       0.50      0.50      0.50     10632\nweighted avg       0.52      0.50      0.50     10632\n\n"
     ]
    }
   ],
   "source": [
    "\n",
    "print(classification_report(y_true = testY, y_pred = title_bi_cdum))\n",
    "print(classification_report(y_true = testY, y_pred = title_bi_tfdum))"
   ]
  },
  {
   "cell_type": "code",
   "execution_count": 87,
   "metadata": {},
   "outputs": [
    {
     "output_type": "stream",
     "name": "stdout",
     "text": [
      "              precision    recall  f1-score   support\n\n           0       0.40      0.50      0.44      4284\n           1       0.59      0.49      0.54      6348\n\n    accuracy                           0.50     10632\n   macro avg       0.50      0.50      0.49     10632\nweighted avg       0.51      0.50      0.50     10632\n\n              precision    recall  f1-score   support\n\n           0       0.40      0.50      0.45      4284\n           1       0.60      0.50      0.55      6348\n\n    accuracy                           0.50     10632\n   macro avg       0.50      0.50      0.50     10632\nweighted avg       0.52      0.50      0.51     10632\n\n"
     ]
    }
   ],
   "source": [
    "\n",
    "print(classification_report(y_true = testY, y_pred = title_tri_cdum))\n",
    "print(classification_report(y_true = testY, y_pred = title_tri_tfdum))"
   ]
  },
  {
   "cell_type": "code",
   "execution_count": 88,
   "metadata": {},
   "outputs": [
    {
     "output_type": "stream",
     "name": "stdout",
     "text": [
      "              precision    recall  f1-score   support\n",
      "\n",
      "           0       0.41      0.51      0.45      4284\n",
      "           1       0.60      0.50      0.55      6348\n",
      "\n",
      "    accuracy                           0.51     10632\n",
      "   macro avg       0.51      0.51      0.50     10632\n",
      "weighted avg       0.53      0.51      0.51     10632\n",
      "\n",
      "              precision    recall  f1-score   support\n",
      "\n",
      "           0       0.40      0.50      0.45      4284\n",
      "           1       0.60      0.50      0.54      6348\n",
      "\n",
      "    accuracy                           0.50     10632\n",
      "   macro avg       0.50      0.50      0.49     10632\n",
      "weighted avg       0.52      0.50      0.50     10632\n",
      "\n"
     ]
    }
   ],
   "source": [
    "print(classification_report(y_true = testY, y_pred = text_uni_cdum))\n",
    "print(classification_report(y_true = testY, y_pred = text_uni_tfdum))"
   ]
  },
  {
   "cell_type": "code",
   "execution_count": 89,
   "metadata": {},
   "outputs": [
    {
     "output_type": "stream",
     "name": "stdout",
     "text": [
      "              precision    recall  f1-score   support\n",
      "\n",
      "           0       0.40      0.49      0.44      4284\n",
      "           1       0.59      0.50      0.54      6348\n",
      "\n",
      "    accuracy                           0.50     10632\n",
      "   macro avg       0.50      0.50      0.49     10632\n",
      "weighted avg       0.51      0.50      0.50     10632\n",
      "\n",
      "              precision    recall  f1-score   support\n",
      "\n",
      "           0       0.40      0.50      0.44      4284\n",
      "           1       0.59      0.49      0.54      6348\n",
      "\n",
      "    accuracy                           0.50     10632\n",
      "   macro avg       0.50      0.50      0.49     10632\n",
      "weighted avg       0.52      0.50      0.50     10632\n",
      "\n"
     ]
    }
   ],
   "source": [
    "print(classification_report(y_true = testY, y_pred = text_bi_cdum))\n",
    "print(classification_report(y_true = testY, y_pred = text_bi_tfdum))"
   ]
  },
  {
   "cell_type": "code",
   "execution_count": 90,
   "metadata": {},
   "outputs": [
    {
     "output_type": "stream",
     "name": "stdout",
     "text": [
      "              precision    recall  f1-score   support\n\n           0       0.41      0.50      0.45      4284\n           1       0.60      0.51      0.55      6348\n\n    accuracy                           0.50     10632\n   macro avg       0.50      0.50      0.50     10632\nweighted avg       0.52      0.50      0.51     10632\n\n              precision    recall  f1-score   support\n\n           0       0.39      0.48      0.43      4284\n           1       0.58      0.49      0.53      6348\n\n    accuracy                           0.49     10632\n   macro avg       0.49      0.49      0.48     10632\nweighted avg       0.51      0.49      0.49     10632\n\n"
     ]
    }
   ],
   "source": [
    "print(classification_report(y_true = testY, y_pred = text_tri_cdum))\n",
    "print(classification_report(y_true = testY, y_pred = text_tri_tfdum))"
   ]
  },
  {
   "cell_type": "code",
   "execution_count": 91,
   "metadata": {},
   "outputs": [
    {
     "output_type": "stream",
     "name": "stdout",
     "text": [
      "              precision    recall  f1-score   support\n",
      "\n",
      "           0       0.41      0.51      0.46      4284\n",
      "           1       0.61      0.50      0.55      6348\n",
      "\n",
      "    accuracy                           0.51     10632\n",
      "   macro avg       0.51      0.51      0.50     10632\n",
      "weighted avg       0.53      0.51      0.51     10632\n",
      "\n",
      "              precision    recall  f1-score   support\n",
      "\n",
      "           0       0.40      0.50      0.44      4284\n",
      "           1       0.59      0.49      0.53      6348\n",
      "\n",
      "    accuracy                           0.49     10632\n",
      "   macro avg       0.49      0.49      0.49     10632\n",
      "weighted avg       0.51      0.49      0.50     10632\n",
      "\n"
     ]
    }
   ],
   "source": [
    "print(classification_report(y_true = testY, y_pred = ttext_uni_cdum))\n",
    "print(classification_report(y_true = testY, y_pred = ttext_uni_tfdum))"
   ]
  },
  {
   "cell_type": "code",
   "execution_count": 92,
   "metadata": {},
   "outputs": [
    {
     "output_type": "stream",
     "name": "stdout",
     "text": [
      "              precision    recall  f1-score   support\n",
      "\n",
      "           0       0.40      0.50      0.45      4284\n",
      "           1       0.60      0.49      0.54      6348\n",
      "\n",
      "    accuracy                           0.50     10632\n",
      "   macro avg       0.50      0.50      0.49     10632\n",
      "weighted avg       0.52      0.50      0.50     10632\n",
      "\n",
      "              precision    recall  f1-score   support\n",
      "\n",
      "           0       0.40      0.51      0.45      4284\n",
      "           1       0.60      0.49      0.54      6348\n",
      "\n",
      "    accuracy                           0.50     10632\n",
      "   macro avg       0.50      0.50      0.49     10632\n",
      "weighted avg       0.52      0.50      0.50     10632\n",
      "\n"
     ]
    }
   ],
   "source": [
    "\n",
    "print(classification_report(y_true = testY, y_pred = ttext_bi_cdum))\n",
    "print(classification_report(y_true = testY, y_pred = ttext_bi_tfdum))"
   ]
  },
  {
   "cell_type": "code",
   "execution_count": 93,
   "metadata": {},
   "outputs": [
    {
     "output_type": "stream",
     "name": "stdout",
     "text": [
      "              precision    recall  f1-score   support\n",
      "\n",
      "           0       0.40      0.49      0.44      4284\n",
      "           1       0.59      0.50      0.54      6348\n",
      "\n",
      "    accuracy                           0.50     10632\n",
      "   macro avg       0.49      0.49      0.49     10632\n",
      "weighted avg       0.51      0.50      0.50     10632\n",
      "\n",
      "              precision    recall  f1-score   support\n",
      "\n",
      "           0       0.41      0.50      0.45      4284\n",
      "           1       0.60      0.51      0.55      6348\n",
      "\n",
      "    accuracy                           0.51     10632\n",
      "   macro avg       0.51      0.51      0.50     10632\n",
      "weighted avg       0.52      0.51      0.51     10632\n",
      "\n"
     ]
    }
   ],
   "source": [
    "\n",
    "print(classification_report(y_true = testY, y_pred = ttext_tri_cdum))\n",
    "print(classification_report(y_true = testY, y_pred = ttext_tri_tfdum))"
   ]
  },
  {
   "cell_type": "code",
   "execution_count": 94,
   "metadata": {},
   "outputs": [
    {
     "output_type": "stream",
     "name": "stdout",
     "text": [
      "              precision    recall  f1-score   support\n\n           0       0.41      0.51      0.45      4284\n           1       0.60      0.50      0.55      6348\n\n    accuracy                           0.50     10632\n   macro avg       0.50      0.50      0.50     10632\nweighted avg       0.52      0.50      0.51     10632\n\n              precision    recall  f1-score   support\n\n           0       0.40      0.49      0.44      4284\n           1       0.59      0.50      0.54      6348\n\n    accuracy                           0.50     10632\n   macro avg       0.50      0.50      0.49     10632\nweighted avg       0.51      0.50      0.50     10632\n\n"
     ]
    }
   ],
   "source": [
    "print(classification_report(y_true = testY, y_pred = ttitle_uni_cdum))\n",
    "print(classification_report(y_true = testY, y_pred = ttitle_uni_tfdum))"
   ]
  },
  {
   "cell_type": "code",
   "execution_count": 95,
   "metadata": {},
   "outputs": [
    {
     "output_type": "stream",
     "name": "stdout",
     "text": [
      "              precision    recall  f1-score   support\n\n           0       0.40      0.49      0.44      4284\n           1       0.60      0.51      0.55      6348\n\n    accuracy                           0.50     10632\n   macro avg       0.50      0.50      0.50     10632\nweighted avg       0.52      0.50      0.51     10632\n\n              precision    recall  f1-score   support\n\n           0       0.41      0.51      0.45      4284\n           1       0.60      0.50      0.55      6348\n\n    accuracy                           0.50     10632\n   macro avg       0.51      0.51      0.50     10632\nweighted avg       0.52      0.50      0.51     10632\n\n"
     ]
    }
   ],
   "source": [
    "\n",
    "print(classification_report(y_true = testY, y_pred = ttitle_bi_cdum))\n",
    "print(classification_report(y_true = testY, y_pred = ttitle_bi_tfdum))"
   ]
  },
  {
   "cell_type": "code",
   "execution_count": 96,
   "metadata": {},
   "outputs": [
    {
     "output_type": "stream",
     "name": "stdout",
     "text": [
      "              precision    recall  f1-score   support\n",
      "\n",
      "           0       0.40      0.50      0.45      4284\n",
      "           1       0.59      0.49      0.54      6348\n",
      "\n",
      "    accuracy                           0.50     10632\n",
      "   macro avg       0.50      0.50      0.49     10632\n",
      "weighted avg       0.52      0.50      0.50     10632\n",
      "\n",
      "              precision    recall  f1-score   support\n",
      "\n",
      "           0       0.41      0.51      0.45      4284\n",
      "           1       0.60      0.50      0.55      6348\n",
      "\n",
      "    accuracy                           0.50     10632\n",
      "   macro avg       0.50      0.51      0.50     10632\n",
      "weighted avg       0.52      0.50      0.51     10632\n",
      "\n"
     ]
    }
   ],
   "source": [
    "\n",
    "print(classification_report(y_true = testY, y_pred = ttitle_tri_cdum))\n",
    "print(classification_report(y_true = testY, y_pred = ttitle_tri_tfdum))"
   ]
  }
 ],
 "metadata": {
  "kernelspec": {
   "display_name": "Python 3",
   "language": "python",
   "name": "python3"
  },
  "language_info": {
   "codemirror_mode": {
    "name": "ipython",
    "version": 3
   },
   "file_extension": ".py",
   "mimetype": "text/x-python",
   "name": "python",
   "nbconvert_exporter": "python",
   "pygments_lexer": "ipython3",
   "version": "3.8.5-final"
  }
 },
 "nbformat": 4,
 "nbformat_minor": 4
}